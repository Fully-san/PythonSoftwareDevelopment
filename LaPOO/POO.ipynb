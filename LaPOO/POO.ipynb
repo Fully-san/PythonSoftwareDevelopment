{
 "cells": [
  {
   "cell_type": "markdown",
   "metadata": {},
   "source": [
    "## Gestion d'une bibliothèque"
   ]
  },
  {
   "cell_type": "markdown",
   "metadata": {},
   "source": [
    "### La classe Livre"
   ]
  },
  {
   "cell_type": "markdown",
   "metadata": {},
   "source": [
    "Créez une classe `Livre` avec les attributs suivants :\n",
    " - titre\n",
    " - auteur\n",
    " - année de publication.<br>\n",
    "\n",
    "Ajoutez une méthode `afficherDetails` qui affiche les détails du livre."
   ]
  },
  {
   "cell_type": "code",
   "execution_count": 4,
   "metadata": {},
   "outputs": [],
   "source": [
    "# Votre code ici"
   ]
  },
  {
   "cell_type": "markdown",
   "metadata": {},
   "source": [
    "<details>\n",
    "<summary>Solution</summary>\n",
    "<p>\n",
    "class Livre:\n",
    "    def __init__(self, titre, auteur, annee):\n",
    "        self.titre = titre\n",
    "        self.auteur = auteur\n",
    "        self.annee = annee\n",
    "    \n",
    "    def afficherDetails(self):\n",
    "        print(f\"{self.titre}, {self.auteur}, {self.annee}\")\n",
    "<p>\n",
    "</details>"
   ]
  },
  {
   "cell_type": "markdown",
   "metadata": {},
   "source": [
    "### La classe Bibliotheque"
   ]
  },
  {
   "cell_type": "markdown",
   "metadata": {},
   "source": [
    "Créez une classe `Bibliotheque` qui peut stocker plusieurs livres. La bibliothèque devrait avoir une liste pour stocker les livres.<br>\n",
    "Ajoutez des méthodes pour ajouter un livre à la bibliothèque et afficher tous les livres."
   ]
  },
  {
   "cell_type": "code",
   "execution_count": null,
   "metadata": {},
   "outputs": [],
   "source": [
    "# Votre code ici"
   ]
  },
  {
   "cell_type": "markdown",
   "metadata": {},
   "source": [
    "<details>\n",
    "<summary>Solution</summary>\n",
    "<p>\n",
    "class Bibliotheque:\n",
    "    def __init__(self):\n",
    "        self.livres = []\n",
    "    \n",
    "    def ajouterLivre(self, livre):\n",
    "        self.livres.append(livre)\n",
    "    \n",
    "    def afficherTousLivres(self):\n",
    "        for livre in self.livres:\n",
    "            livre.afficherDetails()\n",
    "<p>\n",
    "</details>"
   ]
  },
  {
   "cell_type": "markdown",
   "metadata": {},
   "source": [
    "### Utilisation des classes Livre et Bibliotheque"
   ]
  },
  {
   "cell_type": "markdown",
   "metadata": {},
   "source": [
    "Créez quelques instances de la classe `Livre` et de la classe `Bibliotheque`.<br>\n",
    "Ajoutez les livres à la bibliothèque et affichez tous les livres."
   ]
  },
  {
   "cell_type": "code",
   "execution_count": null,
   "metadata": {},
   "outputs": [],
   "source": [
    "# Votre code ici"
   ]
  },
  {
   "cell_type": "markdown",
   "metadata": {},
   "source": [
    "<details>\n",
    "<summary>Solution</summary>\n",
    "<p>\n",
    "livre1 = Livre(\"Le Petit Prince\", \"Antoine de Saint-Exupéry\", 1943)\n",
    "livre2 = Livre(\"Le seigneur des anneaux, tome 1 : La communauté de l'anneau\", \"J.R.R. Tolkien\", 1954)\n",
    "\n",
    "biblio = Bibliotheque()\n",
    "biblio.ajouterLivre(livre1)\n",
    "biblio.ajouterLivre(livre2)\n",
    "\n",
    "biblio.afficherTousLivres()\n",
    "<p>\n",
    "</details>"
   ]
  },
  {
   "cell_type": "markdown",
   "metadata": {},
   "source": [
    "### Implémentation de la classe Document"
   ]
  },
  {
   "cell_type": "markdown",
   "metadata": {},
   "source": [
    "Modifier le code précédent pour implémenter une classe `Document` qui contiendra les éléments de la classe `Livre`.<br>\n",
    "La classe `Livre` sera dérivée de la classe `Document` avec un attribut supplémentaire pour l'année de publication, ainsi qu'une méthode pour afficher l'année.\n",
    "Modifier la classe `Bibliotheque` pour qu'elle gère des documents et non plus des livres."
   ]
  },
  {
   "cell_type": "code",
   "execution_count": null,
   "metadata": {},
   "outputs": [],
   "source": [
    "# Votre code ici"
   ]
  },
  {
   "cell_type": "markdown",
   "metadata": {},
   "source": [
    "<details>\n",
    "<summary>Solution</summary>\n",
    "<p>\n",
    "class Document:\n",
    "    def __init__(self, titre, auteur):\n",
    "        self.titre = titre\n",
    "        self.auteur = auteur\n",
    "    \n",
    "    def afficherDetails(self):\n",
    "        print(f\"{self.titre}, {self.auteur}\")\n",
    "\n",
    "class Livre(Document):\n",
    "    def __init__(self, titre, auteur, annee):\n",
    "        super().__init__(titre, auteur)\n",
    "        self.annee = annee\n",
    "    \n",
    "    def afficherAnnee(self):\n",
    "        print(f\"Annee de publication : {self.annee}\")\n",
    "\n",
    "class Bibliotheque:\n",
    "    def __init__(self):\n",
    "        self.documents = []\n",
    "    \n",
    "    def ajouterDocument(self, document):\n",
    "        self.documents.append(document)\n",
    "    \n",
    "    def afficherTousDocuments(self):\n",
    "        for document in self.documents:\n",
    "            document.afficherDetails()\n",
    "<p>\n",
    "</details>"
   ]
  },
  {
   "cell_type": "markdown",
   "metadata": {},
   "source": [
    "### Ajout de la classe Article"
   ]
  },
  {
   "cell_type": "markdown",
   "metadata": {},
   "source": [
    "Créez une classe dérivée `Article` de la classe `Document` avec un attribut supplémentaire pour le magazine.<br>\n",
    "Ajoutez une méthode spécifique `afficherMagazine`."
   ]
  },
  {
   "cell_type": "code",
   "execution_count": null,
   "metadata": {},
   "outputs": [],
   "source": [
    "# Votre code ici"
   ]
  },
  {
   "cell_type": "markdown",
   "metadata": {},
   "source": [
    "<details>\n",
    "<summary>Solution</summary>\n",
    "<p>\n",
    "class Article(Document):\n",
    "    def __init__(self, titre, auteur, magazine):\n",
    "        super().__init__(titre, auteur)\n",
    "        self.magazine = magazine\n",
    "    \n",
    "    def afficherMagazine(self):\n",
    "        print(f\"Magazine : {self.magazine}\")\n",
    "<p>\n",
    "</details>"
   ]
  },
  {
   "cell_type": "markdown",
   "metadata": {},
   "source": [
    "### Utilisation des classes Livre, Article et Bibliotheque"
   ]
  },
  {
   "cell_type": "markdown",
   "metadata": {},
   "source": [
    "Créez quelques instances des classes `Livre`, `Article` et de la classe `Bibliotheque`.\n",
    "Ajoutez les documents à la bibliothèque et affichez tous les documents."
   ]
  },
  {
   "cell_type": "code",
   "execution_count": null,
   "metadata": {},
   "outputs": [],
   "source": [
    "livre1 = Livre(\"Le Petit Prince\", \"Antoine de Saint-Exupéry\", 1943)\n",
    "livre2 = Livre(\"Le seigneur des anneaux, tome 1 : La communauté de l'anneau\", \"J.R.R. Tolkien\", 1954)\n",
    "article1 = Article(\"Forbes 1\", \"Bertie Charles Forbes\", \"Forbes\")\n",
    "article2 = Article(\"Forbes 2\", \"Bertie Charles Forbes\", \"Forbes\")\n",
    "\n",
    "biblio = Bibliotheque()\n",
    "biblio.ajouterDocument(livre1)\n",
    "biblio.ajouterDocument(livre2)\n",
    "biblio.ajouterDocument(article1)\n",
    "biblio.ajouterDocument(article2)\n",
    "\n",
    "biblio.afficherTousDocuments()"
   ]
  }
 ],
 "metadata": {
  "kernelspec": {
   "display_name": "base",
   "language": "python",
   "name": "python3"
  },
  "language_info": {
   "codemirror_mode": {
    "name": "ipython",
    "version": 3
   },
   "file_extension": ".py",
   "mimetype": "text/x-python",
   "name": "python",
   "nbconvert_exporter": "python",
   "pygments_lexer": "ipython3",
   "version": "3.10.11"
  }
 },
 "nbformat": 4,
 "nbformat_minor": 2
}
