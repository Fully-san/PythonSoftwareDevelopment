{
 "cells": [
  {
   "cell_type": "markdown",
   "metadata": {},
   "source": [
    "## La classe Account"
   ]
  },
  {
   "cell_type": "markdown",
   "metadata": {},
   "source": [
    "Écrire un programme en Python qui simule la gestion d’un simple compte bancaire. Le compte est créé avec un solde initial. Il est possible de déposer et de retirer des fonds, d’ajouter des intérêts et de connaître le solde actuel. Cela devrait être implémenté dans une classe nommée <em><b>Account</b></em> qui comprend:\n",
    "1. Un constructeur par défaut qui met le solde initial à zéro.\n",
    "2. Un constructeur qui accepte une balance initial comme paramètre.\n",
    "3. Une méthode <em><b>getBalance</b></em> qui renvoie le solde actuel.\n",
    "4. Une méthode <em><b>deposit</b></em> pour déposer un montant spécifié.\n",
    "5. Une méthode <em><b>withdraw</b></em> pour retirer un montant spécifié.\n",
    "6. Une méthode <em><b>addInterest</b></em> pour ajouter de l’intérêt au compte (le taux d'intérêt est passé en paramètre)."
   ]
  },
  {
   "cell_type": "code",
   "execution_count": 1,
   "metadata": {},
   "outputs": [],
   "source": [
    "# Votre code ici"
   ]
  },
  {
   "cell_type": "markdown",
   "metadata": {},
   "source": [
    "<details>\n",
    "<summary>Solution</summary>\n",
    "<p>\n",
    "class Account:\n",
    "    def __init__(self, balance=0):\n",
    "        self.balance = balance\n",
    "   \n",
    "    def getBalance(self):\n",
    "        return self.balance\n",
    "       \n",
    "    def deposit(self, amount):\n",
    "        self.balance += amount\n",
    "\n",
    "    def withdraw(self, amount):\n",
    "        self.balance -= amount\n",
    "\n",
    "    def addInterest(self, rate):\n",
    "        self.balance = self.balance*(1 + rate)\n",
    "\n",
    "accountNewClient = Account()\n",
    "accountNewClient.deposit(100)\n",
    "accountNewClient.addInterest(0.3)\n",
    "\n",
    "accountOldClient = Account(3000)\n",
    "accountOldClient.withdraw(1000)\n",
    "\n",
    "print(\"New account :\", accountNewClient.getBalance())\n",
    "print(\"Old account :\", accountOldClient.getBalance())\n",
    "<p>\n",
    "</details>"
   ]
  },
  {
   "cell_type": "markdown",
   "metadata": {},
   "source": [
    "## Les attributs de classe et d'objet"
   ]
  },
  {
   "cell_type": "markdown",
   "metadata": {},
   "source": [
    "Créez une classe <b><em>Orange</em></b> qui contient :\n",
    " - Un attribut de classe <b><em>color</em></b>\n",
    " - Un attribut <b><em>diameter</em></b>\n",
    "\n",
    "Dans la seconde cellule, créez deux instances de la classe Orange.<br><br>\n",
    "\n",
    "Essayez de modifier <b><em>diameter</em></b>, puis <b><em>color</em></b>.<br>\n",
    "Remarquez-vous quelque chose ?<br>\n",
    "Vous pouvez utiliser l'attribut __dict__ pour comprendre ce qui se passe. Il contient tous les attributs d'instance d'un objet."
   ]
  },
  {
   "cell_type": "code",
   "execution_count": 2,
   "metadata": {},
   "outputs": [],
   "source": [
    "class Orange:\n",
    "    pass # Votre code ici"
   ]
  },
  {
   "cell_type": "code",
   "execution_count": null,
   "metadata": {},
   "outputs": [],
   "source": [
    "# Votre code ici"
   ]
  },
  {
   "cell_type": "markdown",
   "metadata": {},
   "source": [
    "<details>\n",
    "<summary>Solution</summary>\n",
    "<p>\n",
    "#cellule 1 \n",
    "class Orange:\n",
    "\n",
    "  color = \"orange\"\n",
    "\n",
    "  def __init__(self, diameter):\n",
    "    self.diameter = diameter\n",
    "\n",
    "#cellule 2\n",
    "bigOrange = Orange(5.8)\n",
    "littleOrange = Orange(4.2)\n",
    "print(\"Grande orange avec un diamètre de\", bigOrange.diameter, \"avec une couleur\", bigOrange.color)\n",
    "print(\"Petite orange avec un diamètre de\", littleOrange.diameter, \"avec une couleur\", littleOrange.color)\n",
    "print(bigOrange.__dict__)\n",
    "\n",
    "#cellule 3\n",
    "bigOrange.color = \"bleu\"\n",
    "bigOrange.diameter = 5.7\n",
    "littleOrange.color = \"vert\"\n",
    "littleOrange.diameter = 4.3\n",
    "print(\"Grande orange avec un diamètre de\", bigOrange.diameter, \"avec une couleur\", bigOrange.color)\n",
    "print(\"Petite orange avec un diamètre de\", littleOrange.diameter, \"avec une couleur\", littleOrange.color)\n",
    "print(bigOrange.__dict__)\n",
    "print(littleOrange.__dict__)\n",
    "<p>\n",
    "</details>"
   ]
  }
 ],
 "metadata": {
  "kernelspec": {
   "display_name": "base",
   "language": "python",
   "name": "python3"
  },
  "language_info": {
   "codemirror_mode": {
    "name": "ipython",
    "version": 3
   },
   "file_extension": ".py",
   "mimetype": "text/x-python",
   "name": "python",
   "nbconvert_exporter": "python",
   "pygments_lexer": "ipython3",
   "version": "3.9.13"
  }
 },
 "nbformat": 4,
 "nbformat_minor": 2
}
