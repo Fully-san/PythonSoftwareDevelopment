{
 "cells": [
  {
   "cell_type": "markdown",
   "metadata": {},
   "source": [
    "## Utilisation du module asyncio et aiohttp"
   ]
  },
  {
   "cell_type": "markdown",
   "metadata": {},
   "source": [
    "Vous devez dans un premier temps installer le module aiohttp pour effectuer des requêtes de manière asynchrone."
   ]
  },
  {
   "cell_type": "code",
   "execution_count": null,
   "metadata": {
    "vscode": {
     "languageId": "powershell"
    }
   },
   "outputs": [],
   "source": [
    "pip install aiohttp"
   ]
  },
  {
   "cell_type": "markdown",
   "metadata": {},
   "source": [
    "1. Écrivez un programme asynchrone qui utilise le module `aiohttp` pour effectuer une requête GET à l'URL <a href=\"https://jsonplaceholder.typicode.com/todos/1\">https://jsonplaceholder.typicode.com/todos/1</a> et affiche le contenu de la réponse."
   ]
  },
  {
   "cell_type": "code",
   "execution_count": 11,
   "metadata": {},
   "outputs": [],
   "source": [
    "# Votre code ici"
   ]
  },
  {
   "cell_type": "markdown",
   "metadata": {},
   "source": [
    "<details>\n",
    "<summary>Solution</summary>\n",
    "<p>\n",
    "import asyncio\n",
    "import aiohttp\n",
    "\n",
    "async def fetchData():\n",
    "    async with aiohttp.ClientSession() as session:\n",
    "        async with session.get(\"https://jsonplaceholder.typicode.com/todos/1\") as response:\n",
    "            print(await response.text())\n",
    "\n",
    "await fetchData()\n",
    "<p>\n",
    "</details>"
   ]
  },
  {
   "cell_type": "markdown",
   "metadata": {},
   "source": [
    "2. Modifiez le programme précédent pour effectuer deux requêtes GET simultanées aux URL <a href=\"https://jsonplaceholder.typicode.com/todos/1\">https://jsonplaceholder.typicode.com/todos/1</a> et <a href=\"https://jsonplaceholder.typicode.com/todos/2\">https://jsonplaceholder.typicode.com/todos/2</a>. Affichez le contenu des deux réponses."
   ]
  },
  {
   "cell_type": "code",
   "execution_count": 1,
   "metadata": {},
   "outputs": [],
   "source": [
    "# Votre code ici"
   ]
  },
  {
   "cell_type": "markdown",
   "metadata": {},
   "source": [
    "<details>\n",
    "<summary>Solution</summary>\n",
    "<p>\n",
    "import asyncio\n",
    "import aiohttp\n",
    "\n",
    "async def fetchData(url):\n",
    "    async with aiohttp.ClientSession() as session:\n",
    "        async with session.get(url) as response:\n",
    "            print(await response.text())\n",
    "\n",
    "async def main():\n",
    "    await asyncio.gather(\n",
    "        fetchData(\"https://jsonplaceholder.typicode.com/todos/1\"),\n",
    "        fetchData(\"https://jsonplaceholder.typicode.com/todos/2\")\n",
    "    )\n",
    "\n",
    "await main()\n",
    "<p>\n",
    "</details>"
   ]
  }
 ],
 "metadata": {
  "kernelspec": {
   "display_name": "base",
   "language": "python",
   "name": "python3"
  },
  "language_info": {
   "codemirror_mode": {
    "name": "ipython",
    "version": 3
   },
   "file_extension": ".py",
   "mimetype": "text/x-python",
   "name": "python",
   "nbconvert_exporter": "python",
   "pygments_lexer": "ipython3",
   "version": "3.10.11"
  }
 },
 "nbformat": 4,
 "nbformat_minor": 2
}
