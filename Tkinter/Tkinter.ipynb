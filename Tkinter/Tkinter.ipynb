{
 "cells": [
  {
   "cell_type": "markdown",
   "metadata": {},
   "source": [
    "## Prise en main de Tkinter"
   ]
  },
  {
   "cell_type": "markdown",
   "metadata": {},
   "source": [
    "1. Créez une fenêtre avec un libellé (Label) affichant \"Bonjour, Tkinter !\" et un bouton (Button) avec l'étiquette \"Cliquez-moi !\".<br>\n",
    "Ajoutez une fonction qui sera appelée lorsque le bouton est cliqué, affichant un message dans la console."
   ]
  },
  {
   "cell_type": "code",
   "execution_count": 1,
   "metadata": {},
   "outputs": [],
   "source": [
    "# Votre code ici"
   ]
  },
  {
   "cell_type": "markdown",
   "metadata": {},
   "source": [
    "<details>\n",
    "<summary>Solution</summary>\n",
    "<p>\n",
    "import tkinter as tk\n",
    "\n",
    "def afficherMessage():\n",
    "    print(\"Bouton cliqué !\")\n",
    "\n",
    "fenetre = tk.Tk()\n",
    "\n",
    "label = tk.Label(fenetre, text=\"Bonjour, Tkinter!\")\n",
    "label.pack()\n",
    "\n",
    "bouton = tk.Button(fenetre, text=\"Cliquez-moi !\", command=afficherMessage)\n",
    "bouton.pack()\n",
    "\n",
    "fenetre.mainloop()\n",
    "<p>\n",
    "</details>"
   ]
  },
  {
   "cell_type": "markdown",
   "metadata": {},
   "source": [
    "2. Créez une fenêtre avec une étiquette demandant à l'utilisateur son nom et une entrée (Entry) pour qu'il puisse saisir son nom.<br>\n",
    "Ajoutez un bouton qui, lorsqu'il est cliqué, affiche une boîte de dialogue avec le message \"Bonjour, [nom saisi] !\"."
   ]
  },
  {
   "cell_type": "code",
   "execution_count": 2,
   "metadata": {},
   "outputs": [],
   "source": [
    "# Votre code ici"
   ]
  },
  {
   "cell_type": "markdown",
   "metadata": {},
   "source": [
    "<details>\n",
    "<summary>Solution</summary>\n",
    "<p>\n",
    "import tkinter as tk\n",
    "from tkinter import simpledialog\n",
    "\n",
    "def afficherMessage():\n",
    "    nom = champSaisie.get()\n",
    "    message = f\"Bonjour, {nom} !\"\n",
    "    simpledialog.messagebox.showinfo(\"Message de bienvenue\", message)\n",
    "\n",
    "fenetre = tk.Tk()\n",
    "\n",
    "etiquette = tk.Label(fenetre, text=\"Entrez votre nom :\")\n",
    "etiquette.pack()\n",
    "\n",
    "champSaisie = tk.Entry(fenetre)\n",
    "champSaisie.pack()\n",
    "\n",
    "bouton = tk.Button(fenetre, text=\"Valider\", command=afficherMessage)\n",
    "bouton.pack()\n",
    "\n",
    "fenetre.mainloop()\n",
    "<p>\n",
    "</details>"
   ]
  },
  {
   "cell_type": "markdown",
   "metadata": {},
   "source": [
    "3. Créez une fenêtre avec une liste déroulante (Combobox) contenant au moins trois options.<br>\n",
    "Ajoutez un bouton qui, lorsqu'il est cliqué, affiche dans la console l'option sélectionnée dans la liste déroulante."
   ]
  },
  {
   "cell_type": "code",
   "execution_count": 3,
   "metadata": {},
   "outputs": [],
   "source": [
    "# Votre code ici"
   ]
  },
  {
   "cell_type": "markdown",
   "metadata": {},
   "source": [
    "<details>\n",
    "<summary>Solution</summary>\n",
    "<p>\n",
    "import tkinter as tk\n",
    "from tkinter import ttk\n",
    "\n",
    "def afficherSelection():\n",
    "    selection = combo.get()\n",
    "    print(\"Option sélectionnée :\", selection)\n",
    "\n",
    "fenetre = tk.Tk()\n",
    "fenetre.title(\"Liste déroulante et Bouton\")\n",
    "\n",
    "options = [\"Option 1\", \"Option 2\", \"Option 3\"]\n",
    "\n",
    "combo = ttk.Combobox(fenetre, values=options)\n",
    "combo.set(\"Sélectionnez une option\")\n",
    "combo.pack(pady=10)\n",
    "\n",
    "bouton = tk.Button(fenetre, text=\"Afficher la sélection\", command=afficherSelection)\n",
    "bouton.pack(pady=10)\n",
    "\n",
    "fenetre.mainloop()\n",
    "<p>\n",
    "</details>"
   ]
  },
  {
   "cell_type": "markdown",
   "metadata": {},
   "source": [
    "## Gestion d'une université"
   ]
  },
  {
   "cell_type": "markdown",
   "metadata": {},
   "source": [
    "Réalisez une interface graphique qui sera en mesure d'ajouter des cours et des étudiants à la base de données `universite.db`."
   ]
  },
  {
   "cell_type": "code",
   "execution_count": null,
   "metadata": {},
   "outputs": [],
   "source": [
    "# Votre code ici"
   ]
  },
  {
   "cell_type": "markdown",
   "metadata": {},
   "source": [
    "<details>\n",
    "<summary>Solution</summary>\n",
    "<p>\n",
    "import tkinter as tk\n",
    "from tkinter import messagebox\n",
    "import sqlite3\n",
    "\n",
    "class GestionUniversiteApp:\n",
    "    def __init__(self, master):\n",
    "        self.master = master\n",
    "        self.master.title(\"Gestion de l'Université\")\n",
    "\n",
    "        # Widgets\n",
    "        self.label_nom = tk.Label(master, text=\"Nom:\")\n",
    "        self.label_nom.grid(row=0, column=0, padx=10, pady=10, sticky=tk.W)\n",
    "\n",
    "        self.champ_nom = tk.Entry(master)\n",
    "        self.champ_nom.grid(row=0, column=1, padx=10, pady=10)\n",
    "\n",
    "        self.label_prenom = tk.Label(master, text=\"Prénom:\")\n",
    "        self.label_prenom.grid(row=1, column=0, padx=10, pady=10, sticky=tk.W)\n",
    "\n",
    "        self.champ_prenom = tk.Entry(master)\n",
    "        self.champ_prenom.grid(row=1, column=1, padx=10, pady=10)\n",
    "\n",
    "        self.label_age = tk.Label(master, text=\"Âge:\")\n",
    "        self.label_age.grid(row=2, column=0, padx=10, pady=10, sticky=tk.W)\n",
    "\n",
    "        self.champ_age = tk.Entry(master)\n",
    "        self.champ_age.grid(row=2, column=1, padx=10, pady=10)\n",
    "\n",
    "        self.bouton_ajouter_etudiant = tk.Button(master, text=\"Ajouter Étudiant\", command=self.ajouterEtudiant)\n",
    "        self.bouton_ajouter_etudiant.grid(row=3, column=0, columnspan=2, pady=10)\n",
    "\n",
    "        self.label_titre_cours = tk.Label(master, text=\"Titre du Cours:\")\n",
    "        self.label_titre_cours.grid(row=4, column=0, padx=10, pady=10, sticky=tk.W)\n",
    "\n",
    "        self.champ_titre_cours = tk.Entry(master)\n",
    "        self.champ_titre_cours.grid(row=4, column=1, padx=10, pady=10)\n",
    "\n",
    "        self.label_credit_cours = tk.Label(master, text=\"Crédit du Cours:\")\n",
    "        self.label_credit_cours.grid(row=5, column=0, padx=10, pady=10, sticky=tk.W)\n",
    "\n",
    "        self.champ_credit_cours = tk.Entry(master)\n",
    "        self.champ_credit_cours.grid(row=5, column=1, padx=10, pady=10)\n",
    "\n",
    "        self.bouton_ajouter_cours = tk.Button(master, text=\"Ajouter Cours\", command=self.ajouterCours)\n",
    "        self.bouton_ajouter_cours.grid(row=6, column=0, columnspan=2, pady=10)\n",
    "\n",
    "    def ajouterEtudiant(self):\n",
    "        nom = self.champ_nom.get()\n",
    "        prenom = self.champ_prenom.get()\n",
    "        age = self.champ_age.get()\n",
    "\n",
    "        if nom and prenom and age:\n",
    "            try:\n",
    "                age = int(age)\n",
    "                conn = sqlite3.connect('Data/universite.db')\n",
    "                cur = conn.cursor()\n",
    "\n",
    "                cur.execute(\"INSERT INTO etudiants (nom, prenom, age) VALUES (?, ?, ?)\", (nom, prenom, age))\n",
    "                conn.commit()\n",
    "\n",
    "                conn.close()\n",
    "\n",
    "                messagebox.showinfo(\"Succès\", \"Étudiant ajouté avec succès!\")\n",
    "            except ValueError:\n",
    "                messagebox.showerror(\"Erreur\", \"Veuillez entrer un âge valide.\")\n",
    "        else:\n",
    "            messagebox.showerror(\"Erreur\", \"Veuillez remplir tous les champs.\")\n",
    "\n",
    "    def ajouterCours(self):\n",
    "        titre = self.champ_titre_cours.get()\n",
    "        credit = self.champ_credit_cours.get()\n",
    "\n",
    "        if titre and credit:\n",
    "            try:\n",
    "                credit = int(credit)\n",
    "                conn = sqlite3.connect('Data/universite.db')\n",
    "                cur = conn.cursor()\n",
    "\n",
    "                cur.execute(\"INSERT INTO cours (titre, credit) VALUES (?, ?)\", (titre, credit))\n",
    "                conn.commit()\n",
    "\n",
    "                conn.close()\n",
    "\n",
    "                messagebox.showinfo(\"Succès\", \"Cours ajouté avec succès!\")\n",
    "            except ValueError:\n",
    "                messagebox.showerror(\"Erreur\", \"Veuillez entrer un crédit valide.\")\n",
    "        else:\n",
    "            messagebox.showerror(\"Erreur\", \"Veuillez remplir tous les champs.\")\n",
    "\n",
    "root = tk.Tk()\n",
    "\n",
    "app = GestionUniversiteApp(root)\n",
    "\n",
    "root.mainloop()\n",
    "<p>\n",
    "</details>\n"
   ]
  }
 ],
 "metadata": {
  "kernelspec": {
   "display_name": "base",
   "language": "python",
   "name": "python3"
  },
  "language_info": {
   "codemirror_mode": {
    "name": "ipython",
    "version": 3
   },
   "file_extension": ".py",
   "mimetype": "text/x-python",
   "name": "python",
   "nbconvert_exporter": "python",
   "pygments_lexer": "ipython3",
   "version": "3.10.11"
  }
 },
 "nbformat": 4,
 "nbformat_minor": 2
}
