{
 "cells": [
  {
   "cell_type": "markdown",
   "metadata": {},
   "source": [
    "## La mesure de la performance"
   ]
  },
  {
   "cell_type": "markdown",
   "metadata": {},
   "source": [
    "Un moyen intuitif de comparer l’efficacité de deux portions de code est de mesurer leur temps d’exécution en fonction de la taille des données.<br>\n",
    "Le module `timeit` de Python permet de faire cela de façon semi-automatisée.<br>\n",
    "Nous allons voir comment le mettre en place, en considérant trois fonctions différentes qui renvoient le n-ième chiffre de la suite de Fibonacci.<br>\n",
    "Vous commencerez par importer les modules suivant :"
   ]
  },
  {
   "cell_type": "code",
   "execution_count": 1,
   "metadata": {},
   "outputs": [],
   "source": [
    "import matplotlib.pyplot as plt\n",
    "import timeit"
   ]
  },
  {
   "cell_type": "markdown",
   "metadata": {},
   "source": [
    "### La suite de Fibonacci"
   ]
  },
  {
   "cell_type": "markdown",
   "metadata": {},
   "source": [
    "1. Implémentez la fonction de Fibonacci de manière itérative."
   ]
  },
  {
   "cell_type": "code",
   "execution_count": 5,
   "metadata": {},
   "outputs": [
    {
     "data": {
      "text/plain": [
       "13"
      ]
     },
     "execution_count": 5,
     "metadata": {},
     "output_type": "execute_result"
    }
   ],
   "source": [
    "# Votre code ici"
   ]
  },
  {
   "cell_type": "markdown",
   "metadata": {},
   "source": [
    "<details>\n",
    "<summary>Solution</summary>\n",
    "<p>\n",
    "def fibo_iter(n):\n",
    "    if n == 0:\n",
    "        return 0\n",
    "    \n",
    "    f0, f1 = 0, 1\n",
    "    for k in range(1, n):\n",
    "        f0, f1 = f1, f0 + f1\n",
    "    return f1\n",
    "<p>\n",
    "</details>"
   ]
  },
  {
   "cell_type": "markdown",
   "metadata": {},
   "source": [
    "2. Implémentez la fonction de Fibonacci de manière récursive."
   ]
  },
  {
   "cell_type": "code",
   "execution_count": 7,
   "metadata": {},
   "outputs": [],
   "source": [
    "# Votre code ici"
   ]
  },
  {
   "cell_type": "markdown",
   "metadata": {},
   "source": [
    "<details>\n",
    "<summary>Solution</summary>\n",
    "<p>\n",
    "def fibo_rec(n):\n",
    "    if n == 0 or n == 1:\n",
    "        return n\n",
    "\n",
    "    return fibo_rec(n-2)+fibo_rec(n-1)\n",
    "<p>\n",
    "</details>"
   ]
  },
  {
   "cell_type": "markdown",
   "metadata": {},
   "source": [
    "3. Testez la fonction de Fibonacci qui implémente la programmation dynamique."
   ]
  },
  {
   "cell_type": "code",
   "execution_count": 9,
   "metadata": {},
   "outputs": [
    {
     "data": {
      "text/plain": [
       "13"
      ]
     },
     "execution_count": 9,
     "metadata": {},
     "output_type": "execute_result"
    }
   ],
   "source": [
    "def fibo_dyn(n, suite = {0: 0, 1: 1}):\n",
    "    if n == 0 or n == 1:\n",
    "        return n\n",
    "\n",
    "    if n in suite.keys():\n",
    "        return suite[n]\n",
    "    else:\n",
    "        f = fibo_dyn(n-2, suite) + fibo_dyn(n-1, suite)\n",
    "        suite[n] = f\n",
    "        return f"
   ]
  },
  {
   "cell_type": "markdown",
   "metadata": {},
   "source": [
    "### Utilisation de timeit"
   ]
  },
  {
   "cell_type": "markdown",
   "metadata": {},
   "source": [
    "Réalisez un exemple où l'on souhaite obtenir le temps utilisateur de 100 appels à la fonction fibo_iter() avec le paramètre 15."
   ]
  },
  {
   "cell_type": "code",
   "execution_count": 19,
   "metadata": {},
   "outputs": [
    {
     "data": {
      "text/plain": [
       "0.0010895729064941406"
      ]
     },
     "execution_count": 19,
     "metadata": {},
     "output_type": "execute_result"
    }
   ],
   "source": [
    "# Votre code ici"
   ]
  },
  {
   "cell_type": "markdown",
   "metadata": {},
   "source": [
    "<details>\n",
    "<summary>Solution</summary>\n",
    "<p>\n",
    "import time\n",
    "\n",
    "timeit.timeit('fibo_iter(15)', number=100, globals=globals(), timer=time.time)\n",
    "<p>\n",
    "</details>"
   ]
  },
  {
   "cell_type": "markdown",
   "metadata": {},
   "source": [
    "### Visualisation graphique"
   ]
  },
  {
   "cell_type": "markdown",
   "metadata": {},
   "source": [
    "L'axe des abscisses sera représenté par une liste contenant tous les entiers de 1 à 20.<br>\n",
    "Ensuite, pour chacune des 3 fonctions, vous calculerez le temps utilisateur de chaque terme de la suite (10 000 fois) et vous stockerez les résultats dans un tableau d’ordonnées.<br>\n",
    "Vous tracerez ensuite les courbes correspondantes."
   ]
  },
  {
   "cell_type": "code",
   "execution_count": 7,
   "metadata": {},
   "outputs": [],
   "source": [
    "# Votre code ici"
   ]
  },
  {
   "cell_type": "markdown",
   "metadata": {},
   "source": [
    "<details>\n",
    "<summary>Solution</summary>\n",
    "<p>\n",
    "abscisses = list(range(20))\n",
    "\n",
    "ordonnees_rec = []\n",
    "ordonnees_iter = []\n",
    "ordonnees_dyn = []\n",
    "\n",
    "for x in abscisses:\n",
    "    ordonnees_iter.append(timeit.timeit('fibo_iter(x)', number=10000, globals=globals(), timer=time.time))\n",
    "    ordonnees_rec.append(timeit.timeit('fibo_rec(x)', number=10000, globals=globals(), timer=time.time))\n",
    "    ordonnees_dyn.append(timeit.timeit('fibo_dyn(x)', number=10000, globals=globals(), timer=time.time))\n",
    "\n",
    "plt.plot(abscisses, ordonnees_iter, 'b')\n",
    "plt.plot(abscisses, ordonnees_rec, 'r')\n",
    "plt.plot(abscisses, ordonnees_dyn, 'g')\n",
    "plt.show()\n",
    "<p>\n",
    "</details>"
   ]
  },
  {
   "cell_type": "markdown",
   "metadata": {},
   "source": [
    "Que remarquez-vous ?"
   ]
  },
  {
   "cell_type": "markdown",
   "metadata": {},
   "source": [
    "<details>\n",
    "<summary>Solution</summary>\n",
    "<p>\n",
    "On peut observer que la fonction récursive posséde une courbe caractéristique d’une croissance exponentielle du temps utilisateur.<br>\n",
    "Les courbes bleue et verte correspondant aux deux autres méthodes et elles sont confondues.\n",
    "<p>\n",
    "</details>"
   ]
  },
  {
   "cell_type": "markdown",
   "metadata": {},
   "source": [
    "Pour les distinguer, vous allez faire une nouvelle figure sans les données de la fonction fibo_rec, mais avec des valeurs en abscisse allant de 0 à 10 000."
   ]
  },
  {
   "cell_type": "code",
   "execution_count": 28,
   "metadata": {},
   "outputs": [],
   "source": [
    "# Votre code ici"
   ]
  },
  {
   "cell_type": "markdown",
   "metadata": {},
   "source": [
    "<details>\n",
    "<summary>Solution</summary>\n",
    "<p>\n",
    "abscisses = list(range(100))\n",
    "\n",
    "ordonnees_iter = []\n",
    "ordonnees_dyn = []\n",
    "\n",
    "for x in abscisses:\n",
    "    ordonnees_iter.append(timeit.timeit('fibo_iter(x)', number=10000, globals=globals(), timer=time.time))\n",
    "    ordonnees_dyn.append(timeit.timeit('fibo_dyn(x)', number=10000, globals=globals(), timer=time.time))\n",
    "    \n",
    "plt.plot(abscisses, ordonnees_iter, 'b')\n",
    "plt.plot(abscisses, ordonnees_dyn, 'g')\n",
    "plt.show()\n",
    "<p>\n",
    "</details>"
   ]
  },
  {
   "cell_type": "markdown",
   "metadata": {},
   "source": [
    "Que remarquez-vous ?"
   ]
  },
  {
   "cell_type": "markdown",
   "metadata": {},
   "source": [
    "<details>\n",
    "<summary>Solution</summary>\n",
    "<p>\n",
    "Le graphique suggère une croissance linéaire pour la méthode itérative et des performances encore meilleures pour la méthode dynamique.\n",
    "<p>\n",
    "</details>"
   ]
  }
 ],
 "metadata": {
  "kernelspec": {
   "display_name": "base",
   "language": "python",
   "name": "python3"
  },
  "language_info": {
   "codemirror_mode": {
    "name": "ipython",
    "version": 3
   },
   "file_extension": ".py",
   "mimetype": "text/x-python",
   "name": "python",
   "nbconvert_exporter": "python",
   "pygments_lexer": "ipython3",
   "version": "3.10.11"
  }
 },
 "nbformat": 4,
 "nbformat_minor": 2
}
