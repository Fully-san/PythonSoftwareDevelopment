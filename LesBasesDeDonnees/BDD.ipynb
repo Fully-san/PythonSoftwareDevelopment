{
 "cells": [
  {
   "cell_type": "markdown",
   "metadata": {},
   "source": [
    "## Gestion d'étudiants"
   ]
  },
  {
   "cell_type": "markdown",
   "metadata": {},
   "source": [
    "### Création de la base de données"
   ]
  },
  {
   "cell_type": "markdown",
   "metadata": {},
   "source": [
    "Créez une base de données SQLite dans le dossier `Data` et une table `etudiants` qui contiendra les colonnes :\n",
    " - id\n",
    " - nom\n",
    " - age"
   ]
  },
  {
   "cell_type": "code",
   "execution_count": 3,
   "metadata": {},
   "outputs": [],
   "source": [
    "# Votre code ici"
   ]
  },
  {
   "cell_type": "markdown",
   "metadata": {},
   "source": [
    "<details>\n",
    "<summary>Solution</summary>\n",
    "<p>\n",
    "import sqlite3\n",
    "\n",
    "conn = sqlite3.connect('Data/bdd_etudiants.db')\n",
    "cur = conn.cursor()\n",
    "\n",
    "cur.execute('''\n",
    "    CREATE TABLE etudiants (\n",
    "        id INTEGER PRIMARY KEY,\n",
    "        nom TEXT NOT NULL,\n",
    "        age INTEGER NOT NULL\n",
    "    )\n",
    "''')\n",
    "\n",
    "conn.close()\n",
    "<p>\n",
    "</details>"
   ]
  },
  {
   "cell_type": "markdown",
   "metadata": {},
   "source": [
    "### Insertion des données"
   ]
  },
  {
   "cell_type": "markdown",
   "metadata": {},
   "source": [
    "Créez 3 étudiants."
   ]
  },
  {
   "cell_type": "code",
   "execution_count": null,
   "metadata": {},
   "outputs": [],
   "source": [
    "# Votre code ici"
   ]
  },
  {
   "cell_type": "markdown",
   "metadata": {},
   "source": [
    "<details>\n",
    "<summary>Solution</summary>\n",
    "<p>\n",
    "import sqlite3\n",
    "\n",
    "conn = sqlite3.connect('Data/bdd_etudiants.db')\n",
    "cur = conn.cursor()\n",
    "\n",
    "cur.execute(\"INSERT INTO etudiants (nom, age) VALUES (?, ?)\", ('Alice', 20))\n",
    "cur.execute(\"INSERT INTO etudiants (nom, age) VALUES (?, ?)\", ('Bob', 22))\n",
    "cur.execute(\"INSERT INTO etudiants (nom, age) VALUES (?, ?)\", ('Charlie', 21))\n",
    "conn.commit()\n",
    "\n",
    "cur.execute(\"SELECT * FROM etudiants\")\n",
    "rows = cur.fetchall()\n",
    "for row in rows:\n",
    "    print(row)\n",
    "\n",
    "conn.close()\n",
    "<p>\n",
    "</details>"
   ]
  },
  {
   "cell_type": "markdown",
   "metadata": {},
   "source": [
    "### Mise à jour des données dans la table"
   ]
  },
  {
   "cell_type": "markdown",
   "metadata": {},
   "source": [
    "Modifiez l'age d'un de vos étudiants."
   ]
  },
  {
   "cell_type": "code",
   "execution_count": 5,
   "metadata": {},
   "outputs": [],
   "source": [
    "# Votre code ici"
   ]
  },
  {
   "cell_type": "markdown",
   "metadata": {},
   "source": [
    "<details>\n",
    "<summary>Solution</summary>\n",
    "<p>\n",
    "import sqlite3\n",
    "\n",
    "conn = sqlite3.connect('Data/bdd_etudiants.db')\n",
    "cur = conn.cursor()\n",
    "\n",
    "cur.execute(\"UPDATE etudiants SET age = ? WHERE nom = ?\", (23, 'Bob'))\n",
    "conn.commit()\n",
    "\n",
    "cur.execute(\"SELECT * FROM etudiants\")\n",
    "rows = cur.fetchall()\n",
    "for row in rows:\n",
    "    print(row)\n",
    "\n",
    "conn.close()\n",
    "<p>\n",
    "</details>"
   ]
  },
  {
   "cell_type": "markdown",
   "metadata": {},
   "source": [
    "## Gestion d'une université"
   ]
  },
  {
   "cell_type": "markdown",
   "metadata": {},
   "source": [
    "### Création de la base de données"
   ]
  },
  {
   "cell_type": "markdown",
   "metadata": {},
   "source": [
    "Créez une base de données SQLite dans le dossier `Data` et 3 tables:\n",
    " - Une table `etudiants` qui contiendra les colonnes :\n",
    "    - id\n",
    "    - nom\n",
    "    - prenom\n",
    "    - age\n",
    " - Une table `cours` qui contiendra les colonnes :\n",
    "    - id\n",
    "    - titre\n",
    "    - credit\n",
    " - Une table `inscriptions` qui contiendra les colonnes :\n",
    "    - etudiant_id\n",
    "    - cours_id"
   ]
  },
  {
   "cell_type": "code",
   "execution_count": null,
   "metadata": {},
   "outputs": [],
   "source": [
    "# Votre code ici"
   ]
  },
  {
   "cell_type": "markdown",
   "metadata": {},
   "source": [
    "<details>\n",
    "<summary>Solution</summary>\n",
    "<p>\n",
    "import sqlite3\n",
    "\n",
    "conn = sqlite3.connect('Data/universite.db')\n",
    "cur = conn.cursor()\n",
    "\n",
    "cur.execute('''\n",
    "    CREATE TABLE etudiants (\n",
    "        id INTEGER PRIMARY KEY,\n",
    "        nom TEXT NOT NULL,\n",
    "        prenom TEXT NOT NULL,\n",
    "        age INTEGER NOT NULL\n",
    "    )\n",
    "''')\n",
    "\n",
    "cur.execute('''\n",
    "    CREATE TABLE cours (\n",
    "        id INTEGER PRIMARY KEY,\n",
    "        titre TEXT NOT NULL,\n",
    "        credit INTEGER NOT NULL\n",
    "    )\n",
    "''')\n",
    "\n",
    "cur.execute('''\n",
    "    CREATE TABLE inscriptions (\n",
    "        etudiant_id INTEGER,\n",
    "        cours_id INTEGER,\n",
    "        FOREIGN KEY (etudiant_id) REFERENCES etudiants (id),\n",
    "        FOREIGN KEY (cours_id) REFERENCES cours (id),\n",
    "        PRIMARY KEY (etudiant_id, cours_id)\n",
    "    )\n",
    "''')\n",
    "\n",
    "conn.close()\n",
    "<p>\n",
    "</details>"
   ]
  },
  {
   "cell_type": "markdown",
   "metadata": {},
   "source": [
    "### Insertion de données dans les tables"
   ]
  },
  {
   "cell_type": "markdown",
   "metadata": {},
   "source": [
    "Créer des étudiants, des cours et des inscriptions.<br>\n",
    "Affichez vos données"
   ]
  },
  {
   "cell_type": "code",
   "execution_count": null,
   "metadata": {},
   "outputs": [],
   "source": [
    "# Votre code ici"
   ]
  },
  {
   "cell_type": "markdown",
   "metadata": {},
   "source": [
    "<details>\n",
    "<summary>Solution</summary>\n",
    "<p>\n",
    "import sqlite3\n",
    "\n",
    "conn = sqlite3.connect('Data/universite.db')\n",
    "cur = conn.cursor()\n",
    "\n",
    "cur.execute(\"INSERT INTO etudiants (nom, prenom, age) VALUES (?, ?, ?)\", ('Dupont', 'Jean', 21))\n",
    "cur.execute(\"INSERT INTO etudiants (nom, prenom, age) VALUES (?, ?, ?)\", ('Martin', 'Emma', 22))\n",
    "\n",
    "cur.execute(\"INSERT INTO cours (titre, credit) VALUES (?, ?)\", ('Mathématiques', 3))\n",
    "cur.execute(\"INSERT INTO cours (titre, credit) VALUES (?, ?)\", ('Informatique', 4))\n",
    "\n",
    "cur.execute(\"INSERT INTO inscriptions (etudiant_id, cours_id) VALUES (?, ?)\", (1, 1))\n",
    "cur.execute(\"INSERT INTO inscriptions (etudiant_id, cours_id) VALUES (?, ?)\", (1, 2))\n",
    "cur.execute(\"INSERT INTO inscriptions (etudiant_id, cours_id) VALUES (?, ?)\", (2, 2))\n",
    "conn.commit()\n",
    "\n",
    "cur.execute(\"SELECT * FROM etudiants\")\n",
    "print(\"Table 'etudiants':\", cur.fetchall())\n",
    "\n",
    "cur.execute(\"SELECT * FROM cours\")\n",
    "print(\"Table 'cours':\", cur.fetchall())\n",
    "\n",
    "cur.execute(\"SELECT * FROM inscriptions\")\n",
    "print(\"Table 'inscriptions':\", cur.fetchall())\n",
    "\n",
    "conn.close()\n",
    "<p>\n",
    "</details>"
   ]
  },
  {
   "cell_type": "markdown",
   "metadata": {},
   "source": [
    "## Requêtes complexes"
   ]
  },
  {
   "cell_type": "markdown",
   "metadata": {},
   "source": [
    "Trouvez les étudiants inscrits au cours de Mathématiques."
   ]
  },
  {
   "cell_type": "code",
   "execution_count": 11,
   "metadata": {},
   "outputs": [],
   "source": [
    "# Votre code ici"
   ]
  },
  {
   "cell_type": "markdown",
   "metadata": {},
   "source": [
    "<details>\n",
    "<summary>Solution</summary>\n",
    "<p>\n",
    "import sqlite3\n",
    "\n",
    "conn = sqlite3.connect('Data/universite.db')\n",
    "cur = conn.cursor()\n",
    "\n",
    "cur.execute('''\n",
    "    SELECT etudiants.nom, etudiants.prenom\n",
    "    FROM etudiants\n",
    "    JOIN inscriptions ON etudiants.id = inscriptions.etudiant_id\n",
    "    JOIN cours ON inscriptions.cours_id = cours.id\n",
    "    WHERE cours.titre = 'Mathématiques'\n",
    "''')\n",
    "result = cur.fetchall()\n",
    "print(\"Étudiants inscrits au cours de Mathématiques:\", result)\n",
    "\n",
    "conn.close()\n",
    "<p>\n",
    "</details>"
   ]
  },
  {
   "cell_type": "markdown",
   "metadata": {},
   "source": [
    "Calculer le nombre total de crédits d'un étudiant donné."
   ]
  },
  {
   "cell_type": "code",
   "execution_count": 12,
   "metadata": {},
   "outputs": [],
   "source": [
    "# Votre code ici"
   ]
  },
  {
   "cell_type": "markdown",
   "metadata": {},
   "source": [
    "<details>\n",
    "<summary>Solution</summary>\n",
    "<p>\n",
    "import sqlite3\n",
    "\n",
    "conn = sqlite3.connect('Data/universite.db')\n",
    "cur = conn.cursor()\n",
    "\n",
    "# Calculer le nombre total de crédits d'un étudiant donné\n",
    "cur.execute('''\n",
    "    SELECT etudiants.nom, etudiants.prenom, SUM(cours.credit) AS total_credits\n",
    "    FROM etudiants\n",
    "    JOIN inscriptions ON etudiants.id = inscriptions.etudiant_id\n",
    "    JOIN cours ON inscriptions.cours_id = cours.id\n",
    "    WHERE etudiants.nom = 'Dupont'\n",
    "    GROUP BY etudiants.id\n",
    "''')\n",
    "result = cur.fetchall()\n",
    "print(\"Nombre total de crédits pour l'étudiant Dupont:\", result)\n",
    "\n",
    "conn.close()\n",
    "<p>\n",
    "</details>"
   ]
  }
 ],
 "metadata": {
  "kernelspec": {
   "display_name": "base",
   "language": "python",
   "name": "python3"
  },
  "language_info": {
   "codemirror_mode": {
    "name": "ipython",
    "version": 3
   },
   "file_extension": ".py",
   "mimetype": "text/x-python",
   "name": "python",
   "nbconvert_exporter": "python",
   "pygments_lexer": "ipython3",
   "version": "3.10.11"
  }
 },
 "nbformat": 4,
 "nbformat_minor": 2
}
