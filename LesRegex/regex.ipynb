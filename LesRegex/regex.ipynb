{
 "cells": [
  {
   "cell_type": "markdown",
   "metadata": {},
   "source": [
    "## Tutoriel sur les concepts de base"
   ]
  },
  {
   "cell_type": "markdown",
   "metadata": {},
   "source": [
    "Le site https://regexone.com/ permet de passer en revue tous les concepts de base. Finissez le tutoriel avant de continuer ces travaux pratiques."
   ]
  },
  {
   "cell_type": "markdown",
   "metadata": {},
   "source": [
    "## Nettoyeur d'espaces"
   ]
  },
  {
   "cell_type": "markdown",
   "metadata": {},
   "source": [
    "Le fichier `cigaleFourmi.txt` contient le célèbre poème de Jean de la Fontaine. Malheureusement, la personne qui l'a recopié a parfois mis plusieurs espaces au lieu d'un seul entre les mots.<br>\n",
    "Grâce à une *regex* et à la fonction `sub` remplacez plusieurs espaces par un seul espace. Le nouveau texte « propre » sera enregistré dans un fichier `cigaleFourmiPropre.txt`."
   ]
  },
  {
   "cell_type": "code",
   "execution_count": null,
   "metadata": {},
   "outputs": [],
   "source": [
    "# Votre code ici"
   ]
  },
  {
   "cell_type": "markdown",
   "metadata": {},
   "source": [
    "<details>\n",
    "<summary>Solution</summary>\n",
    "<p>\n",
    "import re\n",
    "\n",
    "with open(\"Data/cigaleFourmi.txt\", \"r+\") as file:\n",
    "    texte = file.read()\n",
    "\n",
    "texte = re.sub(\" +\", \" \", texte)\n",
    "\n",
    "with open(\"Data/cigaleFourmiPropre.txt\", \"w+\") as file:\n",
    "    file.write(texte)\n",
    "<p>\n",
    "</details>"
   ]
  },
  {
   "cell_type": "code",
   "execution_count": null,
   "metadata": {},
   "outputs": [],
   "source": [
    "import re\n",
    "\n",
    "with open(\"Data/cigaleFourmi.txt\", \"r+\") as file:\n",
    "    texte = file.read()\n",
    "\n",
    "texte = re.sub(\" +\", \" \", texte)\n",
    "\n",
    "with open(\"Data/cigaleFourmiPropre.txt\", \"w+\") as file:\n",
    "    file.write(texte)"
   ]
  },
  {
   "cell_type": "markdown",
   "metadata": {},
   "source": [
    "## Le défi du dé-htmliseur"
   ]
  },
  {
   "cell_type": "markdown",
   "metadata": {},
   "source": [
    "Le format HTML permet d'afficher des pages web dans un navigateur. Il s'agit d'un langage à balise qui fonctionne avec des balises ouvrantes `<balise>` et des balises fermantes `</balise>`.\n",
    "\n",
    "Affichez à l'écran le contenu du fichier `fichierADehtmliser.html` sans ses balises HTML."
   ]
  },
  {
   "cell_type": "code",
   "execution_count": null,
   "metadata": {},
   "outputs": [],
   "source": [
    "# Votre code ici"
   ]
  },
  {
   "cell_type": "markdown",
   "metadata": {},
   "source": [
    "<details>\n",
    "<summary>Solution</summary>\n",
    "<p>\n",
    "import re\n",
    "\n",
    "with open(\"Data/fichierADehtmliser.html\", \"r+\") as file:\n",
    "    contenu = file.read()\n",
    "\n",
    "print(re.sub(r\"<.+?>\", \"\", contenu).strip())\n",
    "<p>\n",
    "</details>"
   ]
  },
  {
   "cell_type": "code",
   "execution_count": null,
   "metadata": {},
   "outputs": [],
   "source": [
    "import re\n",
    "\n",
    "with open(\"Data/fichierADehtmliser.html\", \"r+\") as file:\n",
    "    contenu = file.read()\n",
    "\n",
    "print(re.sub(r\"<.+?>\", \"\", contenu).strip())"
   ]
  },
  {
   "cell_type": "markdown",
   "metadata": {},
   "source": [
    "## Nettoyeur de doublons"
   ]
  },
  {
   "cell_type": "markdown",
   "metadata": {},
   "source": [
    "Le fichier `brevesDoublons.txt` contient des mots répétés deux fois.<br>\n",
    "Lisez le fichier `brevesDoublons.txt` et supprimez tous les doublons à l'aide d'une *regex*. Affichez ensuite le nouveau texte à l'écran."
   ]
  },
  {
   "cell_type": "code",
   "execution_count": null,
   "metadata": {},
   "outputs": [],
   "source": [
    "# Votre code ici"
   ]
  },
  {
   "cell_type": "markdown",
   "metadata": {},
   "source": [
    "<details>\n",
    "<summary>Solution</summary>\n",
    "<p>\n",
    "import re\n",
    "\n",
    "with open(\"Data/brevesDoublons.txt\", \"r+\") as file:\n",
    "    contenu = file.read()\n",
    "\n",
    "print(re.sub(r\"\\b(.+?) \\1\\b\", r\"\\1\", contenu))\n",
    "<p>\n",
    "</details>"
   ]
  },
  {
   "cell_type": "code",
   "execution_count": null,
   "metadata": {},
   "outputs": [],
   "source": [
    "import re\n",
    "\n",
    "with open(\"Data/brevesDoublons.txt\", \"r+\") as file:\n",
    "    contenu = file.read()\n",
    "\n",
    "print(re.sub(r\"\\b(.+?) \\1\\b\", r\"\\1\", contenu))"
   ]
  },
  {
   "cell_type": "markdown",
   "metadata": {},
   "source": [
    "## Extraction d'information"
   ]
  },
  {
   "cell_type": "markdown",
   "metadata": {},
   "source": [
    "### Analyse des données"
   ]
  },
  {
   "cell_type": "markdown",
   "metadata": {},
   "source": [
    "Ce corpus est une collection de plus de 4000 emails frauduleux (spam, phishing, …) de 1998 à 2007.\n",
    "\n",
    "Tous les emails sont dans un seul fichier, le fichier `debugFile` ne contient que 2 emails.\n",
    "\n",
    "Chaque email possède les headers suivants :\n",
    "- `Return-Path`: address the email was sent from\n",
    "- `X-Sieve`: the X-Sieve host (always cmu-sieve 2.0)\n",
    "- `Message-Id`: a unique identifier for each message\n",
    "- `From`: the message sender (sometimes blank)\n",
    "- `Reply-To`: the email address to which replies will be sent\n",
    "- `To`: the email address to which the e-mail was originally set (some are - truncated for anonymity)\n",
    "- `Date`: Date e-mail was sent\n",
    "- `Subject`: Subject line of e-mail\n",
    "- `X-Mailer`: The platform the e-mail was sent from\n",
    "- `MIME-Version`: The Multipurpose Internet Mail Extension version\n",
    "- `Content-Type`: type of content & character encoding\n",
    "- `Content-Transfer-Encoding`: encoding in bits\n",
    "- `X-MIME-Autoconverted`: the type of autoconversion done\n",
    "- `Status`: r (read) and o (opened)\n",
    "\n",
    "Commencez par stocker le texte de chaque fichier dans les variables `debugText` et `workText`. Attention, les fichiers sont encodés avec l'encoding `windows-1252`."
   ]
  },
  {
   "cell_type": "code",
   "execution_count": null,
   "metadata": {},
   "outputs": [],
   "source": [
    "# Votre code ici"
   ]
  },
  {
   "cell_type": "markdown",
   "metadata": {},
   "source": [
    "<details>\n",
    "<summary>Solution</summary>\n",
    "<p>\n",
    "with open(\"Data/debugFile.txt\", \"r+\", encoding=\"windows-1252\") as file:\n",
    "    debugText = file.read()\n",
    "\n",
    "with open(\"Data/fradulentEmails.txt\", \"r+\", encoding=\"windows-1252\") as file:\n",
    "    workText = file.read()\n",
    "\n",
    "print(workText[0:1000])\n",
    "<p>\n",
    "</details>"
   ]
  },
  {
   "cell_type": "code",
   "execution_count": null,
   "metadata": {},
   "outputs": [],
   "source": [
    "with open(\"Data/debugFile.txt\", \"r+\", encoding=\"windows-1252\") as file:\n",
    "    debugText = file.read()\n",
    "\n",
    "with open(\"Data/fradulentEmails.txt\", \"r+\", encoding=\"windows-1252\") as file:\n",
    "    workText = file.read()\n",
    "\n",
    "print(workText[0:1000])"
   ]
  },
  {
   "cell_type": "markdown",
   "metadata": {},
   "source": [
    "### Affichage de l'émetteur"
   ]
  },
  {
   "cell_type": "markdown",
   "metadata": {},
   "source": [
    "À l'aide d'une expression régulière, affichez les 10 premières lignes ``From:``"
   ]
  },
  {
   "cell_type": "code",
   "execution_count": null,
   "metadata": {},
   "outputs": [],
   "source": [
    "# Votre code ici"
   ]
  },
  {
   "cell_type": "markdown",
   "metadata": {},
   "source": [
    "<details>\n",
    "<summary>Solution</summary>\n",
    "<p>\n",
    "import itertools\n",
    "import re\n",
    "\n",
    "for line in re.findall(r\"^From:.*$\", workText, re.MULTILINE)[0:10]:\n",
    "    print(line)\n",
    "\n",
    "print(\"***\")\n",
    "\n",
    "for i, match in enumerate(re.finditer(r\"^From:.*$\", workText, re.MULTILINE)):\n",
    "    if i >= 10:\n",
    "        break\n",
    "    print(match.group(0))\n",
    "\n",
    "print(\"***\")\n",
    "\n",
    "for match in itertools.islice(re.finditer(r\"^From:.*$\", workText, re.MULTILINE), 10):\n",
    "    print(match.group(0))\n",
    "<p>\n",
    "</details>"
   ]
  },
  {
   "cell_type": "code",
   "execution_count": null,
   "metadata": {},
   "outputs": [],
   "source": [
    "import re\n",
    "\n",
    "for line in re.findall(r\"^From:.*$\", workText, re.MULTILINE)[0:10]:\n",
    "    print(line)"
   ]
  },
  {
   "cell_type": "markdown",
   "metadata": {},
   "source": [
    "### Suppression des guillements"
   ]
  },
  {
   "cell_type": "markdown",
   "metadata": {},
   "source": [
    "Implémentez une fonction qui :\n",
    "- prend en entrée une chaine de caractère\n",
    "- renvoie la chaîne en ayant supprimé :\n",
    "  - les `'` et `\"`.\n",
    "  - les espaces en debut et en fin."
   ]
  },
  {
   "cell_type": "code",
   "execution_count": null,
   "metadata": {},
   "outputs": [],
   "source": [
    "# Votre code ici"
   ]
  },
  {
   "cell_type": "markdown",
   "metadata": {},
   "source": [
    "<details>\n",
    "<summary>Solution</summary>\n",
    "<p>\n",
    "def processName(text):\n",
    "    result = re.sub(\"\"\"['\"]\"\"\", \"\", text)\n",
    "    result = re.sub(r\"^\\s*(.*?)\\s*$\", r\"\\1\", result)\n",
    "    return result\n",
    "<p>\n",
    "</details>"
   ]
  },
  {
   "cell_type": "code",
   "execution_count": null,
   "metadata": {},
   "outputs": [],
   "source": [
    "def processName(text):\n",
    "    result = re.sub(\"\"\"['\"]\"\"\", \"\", text)\n",
    "    result = re.sub(r\"^\\s*(.*?)\\s*$\", r\"\\1\", result)\n",
    "    return result"
   ]
  },
  {
   "cell_type": "markdown",
   "metadata": {},
   "source": [
    "### Récupération de l'émetteur"
   ]
  },
  {
   "cell_type": "markdown",
   "metadata": {},
   "source": [
    "À l'aide d'une expression régulière, instanciez le dictionnaire `senders` où :\n",
    "\n",
    "- clef = nom de l'émetteur auquel vous aurez enlevé quotes et espaces inutiles.\n",
    "- valeur = ensemble d'email ( en prenant garde de vérifier que l'adresse email est valide)."
   ]
  },
  {
   "cell_type": "code",
   "execution_count": null,
   "metadata": {},
   "outputs": [],
   "source": [
    "# Votre code ici"
   ]
  },
  {
   "cell_type": "markdown",
   "metadata": {},
   "source": [
    "<details>\n",
    "<summary>Solution</summary>\n",
    "<p>\n",
    "senders = {}\n",
    "for match in re.finditer(r\"^From:(.*)<(\\w\\S+@\\S+\\.\\w+)>$\", workText, re.MULTILINE):\n",
    "    name, email = match.groups()\n",
    "    processedName = processName(name)\n",
    "    if processedName not in senders:\n",
    "        senders[processedName] = {email}\n",
    "    else:\n",
    "        senders[processedName].add(email)\n",
    "<p>\n",
    "</details>"
   ]
  },
  {
   "cell_type": "code",
   "execution_count": null,
   "metadata": {},
   "outputs": [],
   "source": [
    "import re\n",
    "\n",
    "senders = {}\n",
    "for match in re.findall(r\"^From:(.*)<(\\w\\S+@\\S+\\.\\w+)>$\", workText, re.MULTILINE):\n",
    "    name, email = match[0], match[1]\n",
    "    processedName = processName(name)\n",
    "    if processedName not in senders:\n",
    "        senders[processedName] = {email}\n",
    "    else:\n",
    "        senders[processedName].add(email)"
   ]
  },
  {
   "cell_type": "markdown",
   "metadata": {},
   "source": [
    "### Affichage des noms des personnes possédant plusieurs emails"
   ]
  },
  {
   "cell_type": "code",
   "execution_count": null,
   "metadata": {},
   "outputs": [],
   "source": [
    "# Votre code ici"
   ]
  },
  {
   "cell_type": "markdown",
   "metadata": {},
   "source": [
    "<details>\n",
    "<summary>Solution</summary>\n",
    "<p>\n",
    "for name, emails in senders.items():\n",
    "    if len(emails) > 1:\n",
    "        print(name)\n",
    "<p>\n",
    "</details>"
   ]
  },
  {
   "cell_type": "code",
   "execution_count": null,
   "metadata": {},
   "outputs": [],
   "source": [
    "for name, emails in senders.items():\n",
    "    if len(emails) > 1:\n",
    "        print(name)"
   ]
  },
  {
   "cell_type": "code",
   "execution_count": 5,
   "metadata": {},
   "outputs": [
    {
     "name": "stdout",
     "output_type": "stream",
     "text": [
      "\n",
      "Mr. David Agu\n",
      "deborah kabila\n",
      "Oliveira Savimbi\n",
      "IDRIS ADAMU\n",
      "Mohammed Abacha\n",
      "LADY MARYAM ABACHA\n",
      "MARIAM ABACHA\n",
      "Mrs. Mariam M. Sese-seko\n",
      "CHIEF(DR.)BODE GEORGE\n",
      "Mr. Jeffrey Daniels\n",
      "Hajia Maryam Abacha\n",
      "diaka tshombe\n",
      "frank okonjo\n",
      "Yetunde Bassey\n",
      "MR.WILLIAM\n",
      "Fred Okoli\n",
      "Mrs Serena Jones\n",
      "prince duke\n",
      "MRS M. SESE SEKO\n",
      "from prince duke\n",
      "MOHAMMED ABACHA\n",
      "susan shabangu\n",
      "Susan Martins\n",
      "blessed ogbe\n",
      "MR. PASCAL IBE\n",
      "Mercy Kume\n",
      "SAMSON K.MANI\n",
      "SESAY MASSAQUOE\n",
      "Abu M.Sesay\n",
      "Barr. Chris Edu\n",
      "james obi\n",
      "MRS. PATRIKA KOVAC\n",
      "Shadak Shari\n",
      "oliver\n",
      "wang\n",
      "Dr&Mrs.Erick\n",
      "Mr Chris Ogiemwonyi\n",
      "Mrs.Erick\n",
      "Paul Otobo\n",
      "SAMSON BAMOGU\n",
      "jun\n",
      "wangqin\n",
      "John  Ogari\n",
      "tony smith\n",
      "Micheal Ipenza\n",
      "Jose Martinez Guzman\n",
      "Demba Gaye\n",
      "MR. KIMAEVA LIOUDMILA\n",
      "Mr Cyriel Kelvin.\n",
      "Dr Ateeq Rahman Khan\n",
      "MRS.SUZANA NUHAN VAYE\n",
      "From : Nicholas Mavis\n",
      "DESU MATTHANI\n",
      "Qin\n",
      "Alhaji Mohammed Abacha\n",
      "Mrs.Lydia Johnson\n",
      "STELLA DIKKO SAMBA\n",
      "Prof Charles Soludo\n",
      "GEORGE SANOUSSI\n",
      "Mr Cyril Kelvin.\n",
      "MRS.LARISA NITSKAYAA\n",
      "eric wong\n",
      "Mr.Kabir Bello.\n",
      "Simon Nicolas\n",
      "Mrs.Amina.A.Bello.\n",
      "Mr. Fredrick Andrew\n",
      "Mariam Camara\n",
      "charles soludo\n",
      "STEPHEN AYLING\n",
      "Mrs.AISHA MOHAMMED.\n",
      "Mr Ateeq Rahman Khan\n",
      "usman bello\n",
      "Mrs.Rita Diatta.\n",
      "Mrs.Chrrey mohameed\n",
      "Karonga Zungu\n",
      "Mr Ag\n",
      "dr daniel nando\n",
      "henry kabore\n",
      "FROM:  MRS BUKI DOGO\n",
      "mark james\n",
      "mohamat ali\n",
      "Internal Revenue Service\n",
      "trevor gumel\n",
      "Dr Hassan Dantata\n",
      "Mr Batholomew\n",
      "Revd. Fr. Peter Clark\n",
      "Mr.David Sarr\n",
      "Mrs Rita\n",
      "=?iso-8859-1?q?BASSEY=20ATTAH?=\n",
      "Ben Maluleke\n",
      "ben ani\n",
      "Mrs Farah al-Hashemi\n",
      "=?iso-8859-7?q?habib=20waheed?=\n",
      "idris ali\n",
      "MRS SUSSAN ADAMS\n",
      "qin wang\n",
      "Rev. Fr. David Clark\n",
      "joe kekabu\n",
      "azize ouattara\n",
      "amina bello\n",
      "PROF CHARLES SOLUDO\n",
      "naba mohammed\n",
      "MRS AISHA MOHAMMED\n",
      "ben coroma\n",
      "Mrs Amina Dhari Ali al-Fayadh\n",
      "Mrs.Atiya Mohameed\n",
      "mu ga\n",
      "Mrs. Patricia Khalid ibn Saqr al Qasseemi\n",
      "Mrs Amina Hassan\n",
      "alice lacson\n",
      "James Nimely\n",
      "azzem yaro\n",
      "ZAKI AHMED\n",
      "george path\n",
      "MR. GULLY GRACI\n",
      "Noel PANGA\n",
      "YSOUF AROUNA\n",
      "God Bless\n",
      "ADAMS IBRAHIM\n",
      "Mr. Ahmed Abdul Kadir\n",
      "raji raji\n",
      "FR RICHARD DAVID\n",
      "mathewcolin\n",
      "Atik Bassim\n",
      "Denguele Samatigui\n",
      "FATIMA ALI\n",
      "Charles Brown\n",
      "Mr Usman Lama\n",
      "Mr.Wilson Ogodi\n",
      "Amina Hannah Hatleberg\n",
      "Mr Dennis Stevenson\n",
      "Mr.Francis Williams\n",
      "iru dunu\n",
      "mark nguessane\n",
      "S.A.Rehman\n",
      "Razaq Samiu\n",
      "Ati Mayoo\n",
      "Melika Diouf\n",
      "MRS CHRISTINA HOLDEN\n",
      "muyeke\n",
      "MUHAMED HASSANE\n",
      "MRS. PATRICIA SAVIMBI\n",
      "Dr.David Bryan Ellis\n",
      "Oumarou Trikouni\n",
      "ISAAC BAKA\n",
      "Chen Jiang\n",
      "mark akima\n",
      "karem ahmed\n",
      "DR.BISI OMOYENI.\n",
      "idris makafi\n",
      "Maria Socorro\n",
      "MRS. LARISA SOSNITSKAYA\n",
      "Dr. Paul A. Sule\n",
      "HANG SENG BANK\n",
      "Barrister Gareth Jones\n",
      "Edward Moore & Associates\n",
      "Koutaba jean\n",
      "chantal kouakou\n",
      "sahidi ngoma\n",
      "mike kone\n",
      "adams kabora\n",
      "Mother Doris Killam\n"
     ]
    }
   ],
   "source": [
    "import re\n",
    "\n",
    "def processName(text):\n",
    "    result = re.sub(\"\"\"['\"]\"\"\", \"\", text)\n",
    "    result = re.sub(r\"^\\s*(.*?)\\s*$\", r\"\\1\", result)\n",
    "    return result\n",
    "\n",
    "with open(\"Data/debugFile.txt\", \"r+\", encoding=\"windows-1252\") as file:\n",
    "    debugText = file.read()\n",
    "\n",
    "with open(\"Data/fradulentEmails.txt\", \"r+\", encoding=\"windows-1252\") as file:\n",
    "    workText = file.read()\n",
    "\n",
    "senders = {}\n",
    "for match in re.findall(r\"^From:(.*)<(\\w\\S+@\\S+\\.\\w+)>$\", workText, re.MULTILINE):\n",
    "    name, email = match[0], match[1]\n",
    "    processedName = processName(name)\n",
    "    if processedName not in senders:\n",
    "        senders[processedName] = {email}\n",
    "    else:\n",
    "        senders[processedName].add(email)\n",
    "\n",
    "for name, emails in senders.items():\n",
    "    if len(emails) > 1:\n",
    "        print(name)"
   ]
  }
 ],
 "metadata": {
  "kernelspec": {
   "display_name": "base",
   "language": "python",
   "name": "python3"
  },
  "language_info": {
   "codemirror_mode": {
    "name": "ipython",
    "version": 3
   },
   "file_extension": ".py",
   "mimetype": "text/x-python",
   "name": "python",
   "nbconvert_exporter": "python",
   "pygments_lexer": "ipython3",
   "version": "3.10.11"
  }
 },
 "nbformat": 4,
 "nbformat_minor": 2
}
