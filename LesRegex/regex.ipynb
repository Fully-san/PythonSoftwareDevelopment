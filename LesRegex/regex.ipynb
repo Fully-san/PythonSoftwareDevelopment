{
 "cells": [
  {
   "cell_type": "markdown",
   "metadata": {},
   "source": [
    "## Tutoriel sur les concepts de base"
   ]
  },
  {
   "cell_type": "markdown",
   "metadata": {},
   "source": [
    "Le site https://regexone.com/ permet de passer en revue tous les concepts de base. Finissez le tutoriel avant de continuer ces travaux pratiques."
   ]
  },
  {
   "cell_type": "markdown",
   "metadata": {},
   "source": [
    "## Nettoyeur d'espaces"
   ]
  },
  {
   "cell_type": "markdown",
   "metadata": {},
   "source": [
    "Le fichier `cigaleFourmi.txt` contient le célèbre poème de Jean de la Fontaine. Malheureusement, la personne qui l'a recopié a parfois mis plusieurs espaces au lieu d'un seul entre les mots.<br>\n",
    "Grâce à une *regex* et à la fonction `sub` remplacez plusieurs espaces par un seul espace. Le nouveau texte « propre » sera enregistré dans un fichier `cigaleFourmiPropre.txt`."
   ]
  },
  {
   "cell_type": "code",
   "execution_count": null,
   "metadata": {},
   "outputs": [],
   "source": [
    "# Votre code ici"
   ]
  },
  {
   "cell_type": "markdown",
   "metadata": {},
   "source": [
    "<details>\n",
    "<summary>Solution</summary>\n",
    "<p>\n",
    "import re\n",
    "\n",
    "with open(\"Data/cigaleFourmi.txt\", \"r+\") as file:\n",
    "    texte = file.read()\n",
    "\n",
    "texte = re.sub(\" +\", \" \", texte)\n",
    "\n",
    "with open(\"Data/cigaleFourmiPropre.txt\", \"w+\") as file:\n",
    "    file.write(texte)\n",
    "<p>\n",
    "</details>"
   ]
  },
  {
   "cell_type": "markdown",
   "metadata": {},
   "source": [
    "## Le défi du dé-htmliseur"
   ]
  },
  {
   "cell_type": "markdown",
   "metadata": {},
   "source": [
    "Le format HTML permet d'afficher des pages web dans un navigateur. Il s'agit d'un langage à balise qui fonctionne avec des balises ouvrantes `<balise>` et des balises fermantes `</balise>`.\n",
    "\n",
    "Affichez à l'écran le contenu du fichier `fichierADehtmliser.html` sans ses balises HTML."
   ]
  },
  {
   "cell_type": "code",
   "execution_count": null,
   "metadata": {},
   "outputs": [],
   "source": [
    "# Votre code ici"
   ]
  },
  {
   "cell_type": "markdown",
   "metadata": {},
   "source": [
    "<details>\n",
    "<summary>Solution</summary>\n",
    "<p>\n",
    "import re\n",
    "\n",
    "with open(\"Data/fichierADehtmliser.html\", \"r+\") as file:\n",
    "    contenu = file.read()\n",
    "\n",
    "print(re.sub(r\"<.+?>\", \"\", contenu).strip())\n",
    "<p>\n",
    "</details>"
   ]
  },
  {
   "cell_type": "markdown",
   "metadata": {},
   "source": [
    "## Nettoyeur de doublons"
   ]
  },
  {
   "cell_type": "markdown",
   "metadata": {},
   "source": [
    "Le fichier `brevesDoublons.txt` contient des mots répétés deux fois.<br>\n",
    "Lisez le fichier `brevesDoublons.txt` et supprimez tous les doublons à l'aide d'une *regex*. Affichez ensuite le nouveau texte à l'écran."
   ]
  },
  {
   "cell_type": "code",
   "execution_count": null,
   "metadata": {},
   "outputs": [],
   "source": [
    "# Votre code ici"
   ]
  },
  {
   "cell_type": "markdown",
   "metadata": {},
   "source": [
    "<details>\n",
    "<summary>Solution</summary>\n",
    "<p>\n",
    "import re\n",
    "\n",
    "with open(\"Data/brevesDoublons.txt\", \"r+\") as file:\n",
    "    contenu = file.read()\n",
    "\n",
    "print(re.sub(r\"\\b(.+?) \\1\\b\", r\"\\1\", contenu))\n",
    "<p>\n",
    "</details>"
   ]
  },
  {
   "cell_type": "markdown",
   "metadata": {},
   "source": [
    "## Extraction d'information"
   ]
  },
  {
   "cell_type": "markdown",
   "metadata": {},
   "source": [
    "### Analyse des données"
   ]
  },
  {
   "cell_type": "markdown",
   "metadata": {},
   "source": [
    "Ce corpus est une collection de plus de 4000 emails frauduleux (spam, phishing, …) de 1998 à 2007.\n",
    "\n",
    "Tous les emails sont dans un seul fichier, le fichier `debugFile` ne contient que 2 emails.\n",
    "\n",
    "Chaque email possède les headers suivants :\n",
    "- `Return-Path`: address the email was sent from\n",
    "- `X-Sieve`: the X-Sieve host (always cmu-sieve 2.0)\n",
    "- `Message-Id`: a unique identifier for each message\n",
    "- `From`: the message sender (sometimes blank)\n",
    "- `Reply-To`: the email address to which replies will be sent\n",
    "- `To`: the email address to which the e-mail was originally set (some are - truncated for anonymity)\n",
    "- `Date`: Date e-mail was sent\n",
    "- `Subject`: Subject line of e-mail\n",
    "- `X-Mailer`: The platform the e-mail was sent from\n",
    "- `MIME-Version`: The Multipurpose Internet Mail Extension version\n",
    "- `Content-Type`: type of content & character encoding\n",
    "- `Content-Transfer-Encoding`: encoding in bits\n",
    "- `X-MIME-Autoconverted`: the type of autoconversion done\n",
    "- `Status`: r (read) and o (opened)\n",
    "\n",
    "Commencez par stocker le texte de chaque fichier dans les variables `debugText` et `workText`. Attention, les fichiers sont encodés avec l'encoding `windows-1252`."
   ]
  },
  {
   "cell_type": "code",
   "execution_count": null,
   "metadata": {},
   "outputs": [],
   "source": [
    "# Votre code ici"
   ]
  },
  {
   "cell_type": "markdown",
   "metadata": {},
   "source": [
    "<details>\n",
    "<summary>Solution</summary>\n",
    "<p>\n",
    "with open(\"Data/debugFile.txt\", \"r+\") as file:\n",
    "    debugText = file.read()\n",
    "\n",
    "with open(\"Data/fradulentEmails.txt\", \"r+\", encoding=\"windows-1252\") as file:\n",
    "    workText = file.read()\n",
    "\n",
    "print(workText[0:1000])\n",
    "<p>\n",
    "</details>"
   ]
  },
  {
   "cell_type": "markdown",
   "metadata": {},
   "source": [
    "### Affichage de l'émetteur"
   ]
  },
  {
   "cell_type": "markdown",
   "metadata": {},
   "source": [
    "À l'aide d'une expression régulière, affichez les 10 premières lignes ``From:``"
   ]
  },
  {
   "cell_type": "code",
   "execution_count": null,
   "metadata": {},
   "outputs": [],
   "source": [
    "# Votre code ici"
   ]
  },
  {
   "cell_type": "markdown",
   "metadata": {},
   "source": [
    "<details>\n",
    "<summary>Solution</summary>\n",
    "<p>\n",
    "import itertools\n",
    "import re\n",
    "\n",
    "for line in re.findall(r\"^From:.*$\", workText, re.MULTILINE)[0:10]:\n",
    "    print(line)\n",
    "\n",
    "print(\"***\")\n",
    "\n",
    "for i, match in enumerate(re.finditer(r\"^From:.*$\", workText, re.MULTILINE)):\n",
    "    if i >= 10:\n",
    "        break\n",
    "    print(match.group(0))\n",
    "\n",
    "print(\"***\")\n",
    "\n",
    "for match in itertools.islice(re.finditer(r\"^From:.*$\", workText, re.MULTILINE), 10):\n",
    "    print(match.group(0))\n",
    "<p>\n",
    "</details>"
   ]
  },
  {
   "cell_type": "markdown",
   "metadata": {},
   "source": [
    "### Suppression des guillements"
   ]
  },
  {
   "cell_type": "markdown",
   "metadata": {},
   "source": [
    "Implémentez une fonction qui :\n",
    "- prend en entrée une chaine de caractère\n",
    "- renvoie la chaîne en ayant supprimé :\n",
    "  - les `'` et `\"`.\n",
    "  - les espaces en debut et en fin."
   ]
  },
  {
   "cell_type": "code",
   "execution_count": null,
   "metadata": {},
   "outputs": [],
   "source": [
    "# Votre code ici"
   ]
  },
  {
   "cell_type": "markdown",
   "metadata": {},
   "source": [
    "<details>\n",
    "<summary>Solution</summary>\n",
    "<p>\n",
    "def processName(text):\n",
    "    result = re.sub(\"\"\"['\"]\"\"\", \"\", text)\n",
    "    result = re.sub(r\"^\\s*(.*?)\\s*$\", r\"\\1\", result)\n",
    "    return result\n",
    "<p>\n",
    "</details>"
   ]
  },
  {
   "cell_type": "markdown",
   "metadata": {},
   "source": [
    "### Récupération de l'émetteur"
   ]
  },
  {
   "cell_type": "markdown",
   "metadata": {},
   "source": [
    "À l'aide d'une expression régulière, instanciez le dictionnaire `senders` où :\n",
    "\n",
    "- clef = nom de l'émetteur auquel vous aurez enlevé quotes et espaces inutiles.\n",
    "- valeur = ensemble d'email ( en prenant garde de vérifier que l'adresse email est valide)."
   ]
  },
  {
   "cell_type": "code",
   "execution_count": null,
   "metadata": {},
   "outputs": [],
   "source": [
    "# Votre code ici"
   ]
  },
  {
   "cell_type": "markdown",
   "metadata": {},
   "source": [
    "<details>\n",
    "<summary>Solution</summary>\n",
    "<p>\n",
    "senders = {}\n",
    "for match in re.finditer(r\"^From:(.*)<(\\w\\S+@\\S+\\.\\w+)>$\", workText, re.MULTILINE):\n",
    "    name, email = match.groups()\n",
    "    processedName = processName(name)\n",
    "    if processedName not in senders:\n",
    "        senders[processedName] = {email}\n",
    "    else:\n",
    "        senders[processedName].add(email)\n",
    "<p>\n",
    "</details>"
   ]
  },
  {
   "cell_type": "markdown",
   "metadata": {},
   "source": [
    "### Affichage des noms des personnes possédant plusieurs emails"
   ]
  },
  {
   "cell_type": "code",
   "execution_count": null,
   "metadata": {},
   "outputs": [],
   "source": [
    "# Votre code ici"
   ]
  },
  {
   "cell_type": "markdown",
   "metadata": {},
   "source": [
    "<details>\n",
    "<summary>Solution</summary>\n",
    "<p>\n",
    "for name, emails in senders.items():\n",
    "    if len(emails) > 1:\n",
    "        print(name)\n",
    "<p>\n",
    "</details>"
   ]
  }
 ],
 "metadata": {
  "kernelspec": {
   "display_name": "base",
   "language": "python",
   "name": "python3"
  },
  "language_info": {
   "codemirror_mode": {
    "name": "ipython",
    "version": 3
   },
   "file_extension": ".py",
   "mimetype": "text/x-python",
   "name": "python",
   "nbconvert_exporter": "python",
   "pygments_lexer": "ipython3",
   "version": "3.10.11"
  }
 },
 "nbformat": 4,
 "nbformat_minor": 2
}
