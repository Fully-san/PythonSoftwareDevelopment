{
 "cells": [
  {
   "cell_type": "markdown",
   "metadata": {},
   "source": [
    "## La récursivité"
   ]
  },
  {
   "cell_type": "markdown",
   "metadata": {},
   "source": [
    "### Les 20 premiers nombres"
   ]
  },
  {
   "cell_type": "markdown",
   "metadata": {},
   "source": [
    "Ecrire un algorithme qui permet d'afficher, de façon récursive, les 20 premiers nombres. Par exemple :<br>\n",
    "1 2 3 4 5 6 7 8 9 10 11 12 13 14 15 16 17 18 19 20"
   ]
  },
  {
   "cell_type": "code",
   "execution_count": null,
   "metadata": {
    "vscode": {
     "languageId": "plaintext"
    }
   },
   "outputs": [],
   "source": [
    "# Votre code ici"
   ]
  },
  {
   "cell_type": "markdown",
   "metadata": {},
   "source": [
    "<details>\n",
    "<summary>Solution</summary>\n",
    "<p>\n",
    "def premiersNombres(i):\n",
    "    if i == 20:\n",
    "        print(\"20\")\n",
    "    else:\n",
    "        print(i)\n",
    "        i += 1\n",
    "        premiersNombres(i)\n",
    "\n",
    "premiersNombres(1)\n",
    "<p>\n",
    "</details>"
   ]
  },
  {
   "cell_type": "markdown",
   "metadata": {},
   "source": [
    "### La somme des n premiers entier"
   ]
  },
  {
   "cell_type": "markdown",
   "metadata": {},
   "source": [
    "Ecrire un algorithme qui permet de calculer la somme des nombres de 1 à n en utilisant la récursivité."
   ]
  },
  {
   "cell_type": "code",
   "execution_count": null,
   "metadata": {
    "vscode": {
     "languageId": "plaintext"
    }
   },
   "outputs": [],
   "source": [
    "# Votre code ici"
   ]
  },
  {
   "cell_type": "markdown",
   "metadata": {},
   "source": [
    "<details>\n",
    "<summary>Solution</summary>\n",
    "<p>\n",
    "def sommePremiersEntier(i):\n",
    "    if(i == 1):\n",
    "        return 1\n",
    "    else:\n",
    "        i -= 1\n",
    "        return i + 1 + sommePremiersEntier(i)\n",
    "\n",
    "print(sommePremiersEntier(20))\n",
    "<p>\n",
    "</details>"
   ]
  },
  {
   "cell_type": "markdown",
   "metadata": {},
   "source": [
    "### Le chiffre d'un nombre"
   ]
  },
  {
   "cell_type": "markdown",
   "metadata": {},
   "source": [
    "Ecrire un algorithme récursif qui permet de Compter les chiffres d'un nombre donné.<br>\n",
    "Par exemple le nombre 365 est composé de 3 chiffres."
   ]
  },
  {
   "cell_type": "code",
   "execution_count": null,
   "metadata": {
    "vscode": {
     "languageId": "plaintext"
    }
   },
   "outputs": [],
   "source": [
    "# Votre code ici"
   ]
  },
  {
   "cell_type": "markdown",
   "metadata": {},
   "source": [
    "<details>\n",
    "<summary>Solution</summary>\n",
    "<p>\n",
    "def chiffreDeNombre(n, i):\n",
    "    if(n %  10 ** i == n):\n",
    "        return 1\n",
    "    else:\n",
    "        i += 1\n",
    "        return 1 + chiffreDeNombre(n, i)\n",
    "\n",
    "print(chiffreDeNombre(58472213, 1))\n",
    "<p>\n",
    "</details>"
   ]
  },
  {
   "cell_type": "markdown",
   "metadata": {},
   "source": [
    "## Le paradigme de diviser pour régner"
   ]
  },
  {
   "cell_type": "markdown",
   "metadata": {},
   "source": [
    "### Recherche d'un élément dans un tableau"
   ]
  },
  {
   "cell_type": "markdown",
   "metadata": {},
   "source": [
    "Utiliser le paradigme de diviser pour régner pour rechercher la présence d’un élément dans un tableau."
   ]
  },
  {
   "cell_type": "code",
   "execution_count": null,
   "metadata": {
    "vscode": {
     "languageId": "plaintext"
    }
   },
   "outputs": [],
   "source": [
    "# Votre code ici"
   ]
  },
  {
   "cell_type": "markdown",
   "metadata": {},
   "source": [
    "<details>\n",
    "<summary>Solution</summary>\n",
    "<p>\n",
    "def recherche(tab, element, debut, fin):\n",
    "    if (debut == fin):\n",
    "        return tab[debut] == element\n",
    "\n",
    "    milieu = (debut+fin) // 2\n",
    "    return recherche(tab, element, debut, milieu) or recherche(tab, element, milieu+1, fin)\n",
    "\n",
    "\n",
    "tab = [38, -62, 0, 1, 47]\n",
    "\n",
    "element = -62\n",
    "if(recherche(tab, element, 0, 4) == 1):\n",
    "    print(element, \"est dans la liste.\")\n",
    "else:\n",
    "    print(element, \"n'est pas dans la liste.\")\n",
    "<p>\n",
    "</details>"
   ]
  }
 ],
 "metadata": {
  "language_info": {
   "name": "python"
  }
 },
 "nbformat": 4,
 "nbformat_minor": 2
}
