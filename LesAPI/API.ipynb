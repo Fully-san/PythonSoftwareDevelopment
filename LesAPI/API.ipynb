{
 "cells": [
  {
   "cell_type": "markdown",
   "metadata": {},
   "source": [
    "## Manipulation de l'API JSONPlaceholder"
   ]
  },
  {
   "cell_type": "markdown",
   "metadata": {},
   "source": [
    "Vous allez devoir réaliser un CRUD (Create, Read, Update, Delete) avec la fausse API REST (JSONPlaceholder). Pour ce faire vous pouvez utiliser les ressources `utilisateurs`.\n",
    "Vous allez :\n",
    " - Créer un nouvel utilisateur.\n",
    " - Lire les détails de cet utilisateur.\n",
    " - Mettre à jour les informations de l'utilisateur.\n",
    " - Supprimer l'utilisateur."
   ]
  },
  {
   "cell_type": "code",
   "execution_count": 11,
   "metadata": {},
   "outputs": [],
   "source": [
    "# Votre code ici"
   ]
  },
  {
   "cell_type": "markdown",
   "metadata": {},
   "source": [
    "<details>\n",
    "<summary>Solution</summary>\n",
    "<p>\n",
    "import requests\n",
    "\n",
    "baseUrl = 'https://jsonplaceholder.typicode.com'\n",
    "\n",
    "def getUser(userId):\n",
    "    url = f'{baseUrl}/users/{userId}'\n",
    "    response = requests.get(url)\n",
    "    return response.json() if response.status_code == 200 else None\n",
    "\n",
    "def createUser(name, email):\n",
    "    url = f'{baseUrl}/users'\n",
    "    data = {'name': name, 'email': email}\n",
    "    response = requests.post(url, json=data)\n",
    "    return response.json() if response.status_code == 201 else None\n",
    "\n",
    "def updateUser(userId, newName):\n",
    "    url = f'{baseUrl}/users/{userId}'\n",
    "    data = {'name': newName}\n",
    "    response = requests.put(url, json=data)\n",
    "    return response.json() if response.status_code == 200 else None\n",
    "\n",
    "def deleteUser(userId):\n",
    "    url = f'{baseUrl}/users/{userId}'\n",
    "    response = requests.delete(url)\n",
    "    return response.status_code == 200\n",
    "\n",
    "userInfo = createUser('John Doe', 'john@example.com')\n",
    "print(f\"Created User: {userInfo}\")\n",
    "\n",
    "updatedUser = updateUser(1, 'Updated Name')\n",
    "print(f\"Updated User: {updatedUser}\")\n",
    "\n",
    "user = getUser(1)\n",
    "print(f\"User Details: {user}\")\n",
    "\n",
    "deleted = deleteUser(1)\n",
    "print(f\"User Deleted: {deleted}\")\n",
    "<p>\n",
    "</details>"
   ]
  },
  {
   "cell_type": "markdown",
   "metadata": {},
   "source": [
    "## Récupérer des informations sur un référentiel Github"
   ]
  },
  {
   "cell_type": "markdown",
   "metadata": {},
   "source": [
    "Utilisez l'API GitHub pour récupérer des informations sur un référentiel spécifique (par exemple, le nombre d'étoiles, les contributeurs, la description, etc.).\n",
    "Affichez ces informations de manière lisible."
   ]
  },
  {
   "cell_type": "code",
   "execution_count": 10,
   "metadata": {},
   "outputs": [],
   "source": [
    "# Votre code ici"
   ]
  },
  {
   "cell_type": "markdown",
   "metadata": {},
   "source": [
    "<details>\n",
    "<summary>Solution</summary>\n",
    "<p>\n",
    "import requests\n",
    "\n",
    "def getGithubRepoInfo(owner, repoName):\n",
    "    url = f'https://api.github.com/repos/{owner}/{repoName}'\n",
    "    response = requests.get(url)\n",
    "    \n",
    "    if response.status_code == 200:\n",
    "        repoInfo = response.json()\n",
    "        print(f\"Repository: {repoInfo['full_name']}\")\n",
    "        print(f\"Description: {repoInfo['description']}\")\n",
    "        print(f\"Stars: {repoInfo['stargazers_count']}\")\n",
    "        print(f\"Forks: {repoInfo['forks_count']}\")\n",
    "    else:\n",
    "        print(f\"Failed to retrieve repository info. Status code: {response.status_code}\")\n",
    "\n",
    "getGithubRepoInfo('EbookFoundation', 'free-programming-books')\n",
    "<p>\n",
    "</details>"
   ]
  }
 ],
 "metadata": {
  "kernelspec": {
   "display_name": "base",
   "language": "python",
   "name": "python3"
  },
  "language_info": {
   "codemirror_mode": {
    "name": "ipython",
    "version": 3
   },
   "file_extension": ".py",
   "mimetype": "text/x-python",
   "name": "python",
   "nbconvert_exporter": "python",
   "pygments_lexer": "ipython3",
   "version": "3.10.11"
  }
 },
 "nbformat": 4,
 "nbformat_minor": 2
}
