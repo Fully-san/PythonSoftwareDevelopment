{
 "cells": [
  {
   "cell_type": "markdown",
   "metadata": {},
   "source": [
    "## La moyenne"
   ]
  },
  {
   "cell_type": "markdown",
   "metadata": {},
   "source": [
    "Chargez le fichier notes.txt qui contient les notes obtenues par les étudiants. Le fichier contient une note par ligne.<br>\n",
    "Puis, créez un fichier admis.txt qui contiendra \"Oui\" ou \"Non\" en fonction de si la note est ≥ 10 ou non."
   ]
  },
  {
   "cell_type": "code",
   "execution_count": 1,
   "metadata": {},
   "outputs": [],
   "source": [
    "# Votre code ici"
   ]
  },
  {
   "cell_type": "markdown",
   "metadata": {},
   "source": [
    "<details>\n",
    "<summary>Solution</summary>\n",
    "<p>\n",
    "notes = []\n",
    "\n",
    "with open(\"Data/notes.txt\", \"r+\") as file:\n",
    "    notes = [float(x) for x in file.read().split()]\n",
    "\n",
    "with open(\"Data/admis.txt\", \"w+\") as file:\n",
    "    for note in notes:\n",
    "        label = \"Oui\" if note >= 10 else \"Non\"\n",
    "        file.write(label + '\\n')\n",
    "<p>\n",
    "</details>\n"
   ]
  },
  {
   "cell_type": "markdown",
   "metadata": {},
   "source": [
    "## Les films"
   ]
  },
  {
   "cell_type": "markdown",
   "metadata": {},
   "source": [
    "Vous allez manipuler le fichier movies.csv contenant des informations sur plus de 30 000 films, extraites de Wikipedia.<br>\n",
    "Utilisez la classe <a href=\"https://docs.python.org/3/library/csv.html?highlight=csv#csv.reader\">reader</a> du module <em><b>csv</b></em> pour lire le fichier.<br>\n",
    "Ensuite, itérez sur les enregistrements et affichez tous les nom de colonne et les 10 premiers titres."
   ]
  },
  {
   "cell_type": "code",
   "execution_count": 24,
   "metadata": {},
   "outputs": [],
   "source": [
    "# Votre code ici"
   ]
  },
  {
   "cell_type": "markdown",
   "metadata": {},
   "source": [
    "<details>\n",
    "<summary>Solution</summary>\n",
    "<p>\n",
    "import csv\n",
    "\n",
    "with open(\"Data/movies.csv\") as file:\n",
    "    reader = csv.reader(file)\n",
    "    columns = next(reader)\n",
    "    print(\"Columns are : \", columns)\n",
    "    titleIndex = columns.index(\"Title\")\n",
    "    for i, line in enumerate(reader):\n",
    "        if i >= 10:\n",
    "            break\n",
    "        print(f\"{i+1:>2} : \" + line[titleIndex])\n",
    "<p>\n",
    "</details>"
   ]
  }
 ],
 "metadata": {
  "kernelspec": {
   "display_name": "Python 3",
   "language": "python",
   "name": "python3"
  },
  "language_info": {
   "codemirror_mode": {
    "name": "ipython",
    "version": 3
   },
   "file_extension": ".py",
   "mimetype": "text/x-python",
   "name": "python",
   "nbconvert_exporter": "python",
   "pygments_lexer": "ipython3",
   "version": "3.9.13"
  }
 },
 "nbformat": 4,
 "nbformat_minor": 2
}
