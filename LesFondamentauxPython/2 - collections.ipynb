{
 "cells": [
  {
   "cell_type": "markdown",
   "metadata": {},
   "source": [
    "## Les saisons"
   ]
  },
  {
   "cell_type": "code",
   "execution_count": 1,
   "metadata": {},
   "outputs": [],
   "source": [
    "winter = [\"December\", \"January\", \"February\"]\n",
    "spring = [\"March\", \"April\", \"May\"]\n",
    "summer = [\"June\", \"July\", \"August\"]\n",
    "autumn = [\"September\", \"October\", \"November\"]\n",
    " \n",
    "seasons = [winter, spring, summer, autumn]"
   ]
  },
  {
   "cell_type": "markdown",
   "metadata": {},
   "source": [
    "Sans exécuter le code, essayez de prédire le résultat de ces expressions :<br>\n",
    "<b>1.</b> seasons[2]<br>\n",
    "<b>2.</b> seasons[1][0]<br>\n",
    "<b>3.</b> seasons[1:2]<br>\n",
    "<b>4.</b> seasons[:][1]<br>"
   ]
  },
  {
   "cell_type": "markdown",
   "metadata": {},
   "source": [
    "Vos réponses :\n",
    "- 1.\n",
    "- 2.\n",
    "- 3.\n",
    "- 4."
   ]
  },
  {
   "cell_type": "markdown",
   "metadata": {},
   "source": [
    "<details>\n",
    "<summary>Solution</summary>\n",
    "<p>\n",
    "<b>1.</b> ['June', 'July', 'August']<br>\n",
    "<b>2.</b> March<br>\n",
    "<b>3.</b> [['March', 'April', 'May']]<br>\n",
    "<b>4.</b> ['March', 'April', 'May']<br>\n",
    "<p>\n",
    "</details>"
   ]
  },
  {
   "cell_type": "markdown",
   "metadata": {},
   "source": [
    "## Manipulation des sets"
   ]
  },
  {
   "cell_type": "code",
   "execution_count": 3,
   "metadata": {},
   "outputs": [],
   "source": [
    "js = {\"dynamic typing\", \"interpreted\", \"web native\", \"prototype oriented\"}\n",
    "python = {\"dynamic typing\", \"interpreted\", \"scientific computing\", \"object oriented\"}\n",
    "java = {\"compiled\", \"object oriented\", \"static typing\"}\n",
    "\n",
    "langages = [js, python, java]"
   ]
  },
  {
   "cell_type": "markdown",
   "metadata": {},
   "source": [
    "Etant donné les ensembles précédents, répondez aux questions suivantes par une expression :\n",
    "- Quelles sont les caractéristiques communes de JavaScript et de Python ?\n",
    "- Quelles sont les caractéristiques exclusives de Java par rapport à Python ?\n",
    "- Quel est l'ensemble des caractéristiques de tous les langages ?\n",
    "- Quelles sont les caractéristiques exclusives de Python par rapport à tous les autres langages ?"
   ]
  },
  {
   "cell_type": "code",
   "execution_count": 4,
   "metadata": {},
   "outputs": [],
   "source": [
    "# Votre code ici"
   ]
  },
  {
   "cell_type": "markdown",
   "metadata": {},
   "source": [
    "<details>\n",
    "<summary>Solution</summary>\n",
    "<p>\n",
    "print(js & python)\n",
    "print(java - python)\n",
    "print(set.union(*langages)) #print(set.union(js, python, java))\n",
    "print(python.difference(js, java))\n",
    "<p>\n",
    "</details>"
   ]
  }
 ],
 "metadata": {
  "kernelspec": {
   "display_name": "Python 3",
   "language": "python",
   "name": "python3"
  },
  "language_info": {
   "codemirror_mode": {
    "name": "ipython",
    "version": 3
   },
   "file_extension": ".py",
   "mimetype": "text/x-python",
   "name": "python",
   "nbconvert_exporter": "python",
   "pygments_lexer": "ipython3",
   "version": "3.9.13"
  }
 },
 "nbformat": 4,
 "nbformat_minor": 2
}
