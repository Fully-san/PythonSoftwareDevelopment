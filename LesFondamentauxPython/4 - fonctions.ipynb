{
 "cells": [
  {
   "cell_type": "markdown",
   "metadata": {},
   "source": [
    "## Complément d'un brin d'ADN à l'aide des fonctions"
   ]
  },
  {
   "cell_type": "markdown",
   "metadata": {},
   "source": [
    "Vous allez utiliser l'exercice précédent sur le brin d'ADN pour pratiquer le concept de fonction.<br>\n",
    "Écrivez deux fonctions qui calculeront le complément d'un brin d'ADN. Une modifiera une liste qu'elle recevra en paramètre, alors que l'autre créera une nouvelle liste en local."
   ]
  },
  {
   "cell_type": "code",
   "execution_count": 1,
   "metadata": {},
   "outputs": [],
   "source": [
    "brinADN = [\"A\",\"C\",\"G\",\"T\",\"T\",\"A\",\"G\",\"C\",\"T\",\"A\",\"A\",\"C\",\"G\"]\n",
    "\n",
    "# Votre code ici"
   ]
  },
  {
   "cell_type": "markdown",
   "metadata": {},
   "source": [
    "<details>\n",
    "<summary>Solution</summary>\n",
    "<p>\n",
    "def ADNComplement(brinADN):\n",
    "    brinADNComplement = []\n",
    "\n",
    "    for molecule in brinADN:\n",
    "        if molecule == \"A\":\n",
    "            brinADNComplement.append(\"T\")\n",
    "        elif molecule == \"T\":\n",
    "            brinADNComplement.append(\"A\")\n",
    "        elif molecule == \"C\":\n",
    "            brinADNComplement.append(\"G\")\n",
    "        else:\n",
    "            brinADNComplement.append(\"C\")\n",
    "\n",
    "    return brinADNComplement\n",
    "\n",
    "def ModificationADNenADNComplement(brinADN):\n",
    "    for i in range(len(brinADN)):\n",
    "        if brinADN[i] == \"A\":\n",
    "            brinADN[i] = \"T\"\n",
    "        elif brinADN[i] == \"T\":\n",
    "            brinADN[i] = \"A\"\n",
    "        elif brinADN[i] == \"C\":\n",
    "            brinADN[i] = \"G\"\n",
    "        else:\n",
    "            brinADN[i] = \"C\"\n",
    "\n",
    "print(\"Brin d'ADN complémentaire (avec la fonction ADNComplement):\", ADNComplement(brinADN))\n",
    "print(\"Brin d'ADN avant l'appel à la fonction ModificationADNenADNComplement:\", brinADN)\n",
    "ModificationADNenADNComplement(brinADN)\n",
    "print(\"Brin d'ADN après l'appel à la fonction ModificationADNenADNComplement:\", brinADN)\n",
    "<p>\n",
    "</details>"
   ]
  }
 ],
 "metadata": {
  "kernelspec": {
   "display_name": "Python 3",
   "language": "python",
   "name": "python3"
  },
  "language_info": {
   "codemirror_mode": {
    "name": "ipython",
    "version": 3
   },
   "file_extension": ".py",
   "mimetype": "text/x-python",
   "name": "python",
   "nbconvert_exporter": "python",
   "pygments_lexer": "ipython3",
   "version": "3.9.13"
  }
 },
 "nbformat": 4,
 "nbformat_minor": 2
}
